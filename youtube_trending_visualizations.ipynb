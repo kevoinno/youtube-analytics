{
 "cells": [
  {
   "attachments": {},
   "cell_type": "markdown",
   "metadata": {},
   "source": [
    "## Importing Libraries & Data"
   ]
  },
  {
   "cell_type": "code",
   "execution_count": 1,
   "metadata": {},
   "outputs": [],
   "source": [
    "import pandas as pd\n",
    "import numpy as np\n",
    "import seaborn as sns\n",
    "import matplotlib.pyplot as plt\n",
    "import matplotlib.ticker as mtick\n",
    "from wordcloud import WordCloud\n",
    "from scipy.stats import pearsonr\n",
    "import plotly.express as px"
   ]
  },
  {
   "attachments": {},
   "cell_type": "markdown",
   "metadata": {},
   "source": [
    "Mapping the category_id of each video to its category in the code below"
   ]
  },
  {
   "cell_type": "code",
   "execution_count": 2,
   "metadata": {},
   "outputs": [],
   "source": [
    "df = pd.read_csv('youtube_data.csv')\n",
    "\n",
    "\n",
    "categories = pd.read_csv('youtube_categories.csv')\n",
    "\n",
    "df = df.merge(categories, on = 'category_id', how = 'left')\n",
    "df = df.drop_duplicates(subset = 'video_id')\n",
    "df['published_at'] = pd.to_datetime(df['published_at'])\n",
    "\n",
    "df.to_csv('streamlit_data.csv', index = False)"
   ]
  },
  {
   "cell_type": "code",
   "execution_count": 3,
   "metadata": {},
   "outputs": [
    {
     "data": {
      "text/plain": [
       "published_at      datetime64[ns]\n",
       "video_id                  object\n",
       "channel_id                object\n",
       "title                     object\n",
       "channel_title             object\n",
       "view_count                 int64\n",
       "like_count                 int64\n",
       "comment_count              int64\n",
       "tags                      object\n",
       "duration                 float64\n",
       "category_id                int64\n",
       "timestamp                 object\n",
       "category_title            object\n",
       "dtype: object"
      ]
     },
     "execution_count": 3,
     "metadata": {},
     "output_type": "execute_result"
    }
   ],
   "source": [
    "df.dtypes"
   ]
  },
  {
   "cell_type": "code",
   "execution_count": 4,
   "metadata": {},
   "outputs": [
    {
     "data": {
      "text/plain": [
       "'2023-04-16'"
      ]
     },
     "execution_count": 4,
     "metadata": {},
     "output_type": "execute_result"
    }
   ],
   "source": [
    "df['published_at'].min().strftime('%Y-%m-%d')"
   ]
  },
  {
   "cell_type": "code",
   "execution_count": 5,
   "metadata": {},
   "outputs": [
    {
     "data": {
      "text/html": [
       "<div>\n",
       "<style scoped>\n",
       "    .dataframe tbody tr th:only-of-type {\n",
       "        vertical-align: middle;\n",
       "    }\n",
       "\n",
       "    .dataframe tbody tr th {\n",
       "        vertical-align: top;\n",
       "    }\n",
       "\n",
       "    .dataframe thead th {\n",
       "        text-align: right;\n",
       "    }\n",
       "</style>\n",
       "<table border=\"1\" class=\"dataframe\">\n",
       "  <thead>\n",
       "    <tr style=\"text-align: right;\">\n",
       "      <th></th>\n",
       "      <th>published_at</th>\n",
       "      <th>video_id</th>\n",
       "      <th>channel_id</th>\n",
       "      <th>title</th>\n",
       "      <th>channel_title</th>\n",
       "      <th>view_count</th>\n",
       "      <th>like_count</th>\n",
       "      <th>comment_count</th>\n",
       "      <th>tags</th>\n",
       "      <th>duration</th>\n",
       "      <th>category_id</th>\n",
       "      <th>timestamp</th>\n",
       "      <th>category_title</th>\n",
       "    </tr>\n",
       "  </thead>\n",
       "  <tbody>\n",
       "    <tr>\n",
       "      <th>0</th>\n",
       "      <td>2023-04-17 16:00:14</td>\n",
       "      <td>3inw26U-os4</td>\n",
       "      <td>UCKsN6xyJ2w8g7p4p9apXkYQ</td>\n",
       "      <td>Grupo Frontera x Bad Bunny - un x100to (Video ...</td>\n",
       "      <td>Grupo Frontera</td>\n",
       "      <td>18533453</td>\n",
       "      <td>978908</td>\n",
       "      <td>30640</td>\n",
       "      <td>['bad bunny', 'grupo frontera', 'frontera', 'f...</td>\n",
       "      <td>3.250000</td>\n",
       "      <td>10</td>\n",
       "      <td>2023-04-19 10:53:26.617027</td>\n",
       "      <td>Music</td>\n",
       "    </tr>\n",
       "    <tr>\n",
       "      <th>1</th>\n",
       "      <td>2023-04-18 21:10:35</td>\n",
       "      <td>yRCzziLUvYs</td>\n",
       "      <td>UCET00YnetHT7tOpu12v8jxg</td>\n",
       "      <td>Chelsea vs. Real Madrid: Extended Highlights |...</td>\n",
       "      <td>CBS Sports Golazo</td>\n",
       "      <td>803230</td>\n",
       "      <td>9056</td>\n",
       "      <td>1117</td>\n",
       "      <td>['Champions League', 'Europa League', 'Soccer'...</td>\n",
       "      <td>11.750000</td>\n",
       "      <td>17</td>\n",
       "      <td>2023-04-19 10:53:26.617027</td>\n",
       "      <td>Sports</td>\n",
       "    </tr>\n",
       "    <tr>\n",
       "      <th>2</th>\n",
       "      <td>2023-04-19 05:45:07</td>\n",
       "      <td>gUmE_TRdp0s</td>\n",
       "      <td>UCJ0uqCI0Vqr2Rrt1HseGirg</td>\n",
       "      <td>BLACKPINK Carpool Karaoke</td>\n",
       "      <td>The Late Late Show with James Corden</td>\n",
       "      <td>3456456</td>\n",
       "      <td>495906</td>\n",
       "      <td>18189</td>\n",
       "      <td>['The Late Late Show', 'Late Late Show', 'Jame...</td>\n",
       "      <td>14.366667</td>\n",
       "      <td>24</td>\n",
       "      <td>2023-04-19 10:53:26.617027</td>\n",
       "      <td>Entertainment</td>\n",
       "    </tr>\n",
       "    <tr>\n",
       "      <th>3</th>\n",
       "      <td>2023-04-18 15:00:30</td>\n",
       "      <td>QxS7KDYQBWs</td>\n",
       "      <td>UC071KjEQUoDUe3FvDU6j02Q</td>\n",
       "      <td>Freestyle with Love is Blind’s Marshall Glaze ...</td>\n",
       "      <td>Nick Viall</td>\n",
       "      <td>267261</td>\n",
       "      <td>6265</td>\n",
       "      <td>1348</td>\n",
       "      <td>['nick viall', 'bachelor', 'abc', 'viall files...</td>\n",
       "      <td>92.783333</td>\n",
       "      <td>22</td>\n",
       "      <td>2023-04-19 10:53:26.617027</td>\n",
       "      <td>People &amp; Blogs</td>\n",
       "    </tr>\n",
       "    <tr>\n",
       "      <th>4</th>\n",
       "      <td>2023-04-18 04:30:35</td>\n",
       "      <td>koHXg0PlYq8</td>\n",
       "      <td>UC9-OpMMVoNP5o10_Iyq7Ndw</td>\n",
       "      <td>Draymond Ejected After STEPPING On Sabonis 😳</td>\n",
       "      <td>Bleacher Report</td>\n",
       "      <td>683683</td>\n",
       "      <td>3665</td>\n",
       "      <td>3691</td>\n",
       "      <td>['bleacher report', 'br', 'nba', 'basketball',...</td>\n",
       "      <td>0.966667</td>\n",
       "      <td>17</td>\n",
       "      <td>2023-04-19 10:53:26.617027</td>\n",
       "      <td>Sports</td>\n",
       "    </tr>\n",
       "  </tbody>\n",
       "</table>\n",
       "</div>"
      ],
      "text/plain": [
       "         published_at     video_id                channel_id  \\\n",
       "0 2023-04-17 16:00:14  3inw26U-os4  UCKsN6xyJ2w8g7p4p9apXkYQ   \n",
       "1 2023-04-18 21:10:35  yRCzziLUvYs  UCET00YnetHT7tOpu12v8jxg   \n",
       "2 2023-04-19 05:45:07  gUmE_TRdp0s  UCJ0uqCI0Vqr2Rrt1HseGirg   \n",
       "3 2023-04-18 15:00:30  QxS7KDYQBWs  UC071KjEQUoDUe3FvDU6j02Q   \n",
       "4 2023-04-18 04:30:35  koHXg0PlYq8  UC9-OpMMVoNP5o10_Iyq7Ndw   \n",
       "\n",
       "                                               title  \\\n",
       "0  Grupo Frontera x Bad Bunny - un x100to (Video ...   \n",
       "1  Chelsea vs. Real Madrid: Extended Highlights |...   \n",
       "2                          BLACKPINK Carpool Karaoke   \n",
       "3  Freestyle with Love is Blind’s Marshall Glaze ...   \n",
       "4       Draymond Ejected After STEPPING On Sabonis 😳   \n",
       "\n",
       "                          channel_title  view_count  like_count  \\\n",
       "0                        Grupo Frontera    18533453      978908   \n",
       "1                     CBS Sports Golazo      803230        9056   \n",
       "2  The Late Late Show with James Corden     3456456      495906   \n",
       "3                            Nick Viall      267261        6265   \n",
       "4                       Bleacher Report      683683        3665   \n",
       "\n",
       "   comment_count                                               tags  \\\n",
       "0          30640  ['bad bunny', 'grupo frontera', 'frontera', 'f...   \n",
       "1           1117  ['Champions League', 'Europa League', 'Soccer'...   \n",
       "2          18189  ['The Late Late Show', 'Late Late Show', 'Jame...   \n",
       "3           1348  ['nick viall', 'bachelor', 'abc', 'viall files...   \n",
       "4           3691  ['bleacher report', 'br', 'nba', 'basketball',...   \n",
       "\n",
       "    duration  category_id                   timestamp  category_title  \n",
       "0   3.250000           10  2023-04-19 10:53:26.617027           Music  \n",
       "1  11.750000           17  2023-04-19 10:53:26.617027          Sports  \n",
       "2  14.366667           24  2023-04-19 10:53:26.617027   Entertainment  \n",
       "3  92.783333           22  2023-04-19 10:53:26.617027  People & Blogs  \n",
       "4   0.966667           17  2023-04-19 10:53:26.617027          Sports  "
      ]
     },
     "execution_count": 5,
     "metadata": {},
     "output_type": "execute_result"
    }
   ],
   "source": [
    "df.head()"
   ]
  },
  {
   "cell_type": "code",
   "execution_count": 6,
   "metadata": {},
   "outputs": [
    {
     "data": {
      "text/plain": [
       "published_at      datetime64[ns]\n",
       "video_id                  object\n",
       "channel_id                object\n",
       "title                     object\n",
       "channel_title             object\n",
       "view_count                 int64\n",
       "like_count                 int64\n",
       "comment_count              int64\n",
       "tags                      object\n",
       "duration                 float64\n",
       "category_id                int64\n",
       "timestamp                 object\n",
       "category_title            object\n",
       "dtype: object"
      ]
     },
     "execution_count": 6,
     "metadata": {},
     "output_type": "execute_result"
    }
   ],
   "source": [
    "df.dtypes"
   ]
  },
  {
   "attachments": {},
   "cell_type": "markdown",
   "metadata": {},
   "source": [
    "Converting string representation of lists to lists"
   ]
  },
  {
   "cell_type": "code",
   "execution_count": 7,
   "metadata": {},
   "outputs": [],
   "source": [
    "df['tags'] = df['tags'].apply(lambda x: eval(x))"
   ]
  },
  {
   "attachments": {},
   "cell_type": "markdown",
   "metadata": {},
   "source": [
    "## Measuring Video Engagment and Observing Its Trends"
   ]
  },
  {
   "cell_type": "code",
   "execution_count": 8,
   "metadata": {},
   "outputs": [
    {
     "data": {
      "image/png": "[encoded data removed]",
      "text/plain": [
       "<Figure size 640x480 with 2 Axes>"
      ]
     },
     "metadata": {},
     "output_type": "display_data"
    }
   ],
   "source": [
    "corr = df[['like_count', 'comment_count', 'view_count']].corr()\n",
    "mask = np.triu(np.ones_like(corr))\n",
    "sns.heatmap(corr, annot = True, cmap = 'Reds', mask = mask);\n",
    "plt.title('Correlation between likes, comments, and views');"
   ]
  },
  {
   "attachments": {},
   "cell_type": "markdown",
   "metadata": {},
   "source": [
    "As shown in the correlation heatmap, comments have a moderate, positive correlation with view count. Like count and view count have a moderately strong, positive correlation. Finally like count and comment count have a strong, positive correlation. Since these variables are all correlated, they will be used to create a new metric, engagement."
   ]
  },
  {
   "attachments": {},
   "cell_type": "markdown",
   "metadata": {},
   "source": [
    "Measuring engagement:\n",
    "\n",
    "- engagement = likes + comments / views\n",
    "\n",
    "This is an attempt to measure how engaging a video is. An assumption being made is that engaging videos will have more likes and comments per a certain number of views. This metric helps highlight videos that are engaging (having a lot of likes and comments), but have less views than a video with a lot of views, but very few comments and likes."
   ]
  },
  {
   "cell_type": "code",
   "execution_count": 9,
   "metadata": {},
   "outputs": [],
   "source": [
    "df['engagement'] = (df['like_count'] + df['comment_count']) / df['view_count']"
   ]
  },
  {
   "attachments": {},
   "cell_type": "markdown",
   "metadata": {},
   "source": [
    "Video categories with the most engagment"
   ]
  },
  {
   "cell_type": "code",
   "execution_count": 10,
   "metadata": {},
   "outputs": [
    {
     "data": {
      "image/png": "[encoded data removed]",
      "text/plain": [
       "<Figure size 640x480 with 1 Axes>"
      ]
     },
     "metadata": {},
     "output_type": "display_data"
    }
   ],
   "source": [
    "agg_cat = df.groupby('category_title')['engagement'].mean()\n",
    "plt.bar(x = agg_cat.index, height = agg_cat, color = \"#FF0000\", edgecolor = '#282828');\n",
    "plt.xticks(rotation=90);\n",
    "plt.xlabel('Category');\n",
    "plt.ylabel('Engagment');\n",
    "plt.title('Average Engagement of Videos by Category');"
   ]
  },
  {
   "attachments": {},
   "cell_type": "markdown",
   "metadata": {},
   "source": [
    "It seems that videos under the category \"Music\" have the highest engagement"
   ]
  },
  {
   "cell_type": "code",
   "execution_count": 11,
   "metadata": {},
   "outputs": [
    {
     "data": {
      "image/png": "[encoded data removed]",
      "text/plain": [
       "<Figure size 640x480 with 1 Axes>"
      ]
     },
     "metadata": {},
     "output_type": "display_data"
    }
   ],
   "source": [
    "plt.scatter(x = df.duration, y = df.engagement, edgecolors = \"black\", color = \"#FF0000\");\n",
    "plt.xlabel('Duration (min)');\n",
    "plt.ylabel('Engagement');\n",
    "plt.title('Engagment vs Duration of Video');"
   ]
  },
  {
   "attachments": {},
   "cell_type": "markdown",
   "metadata": {},
   "source": [
    "Looking at the scatterplot, it is possible that shorter videos tend to have a higher engagment on average, but a different visualization may help us make more accurate interpretations."
   ]
  },
  {
   "cell_type": "code",
   "execution_count": 12,
   "metadata": {},
   "outputs": [],
   "source": [
    "#removing outliers to bin data by duration appropriately\n",
    "q1 = df.duration.quantile(0.25)\n",
    "q3 = df.duration.quantile(0.75)\n",
    "iqr = q3 - q1\n",
    "\n",
    "lower_thresh = q1 - (1.5 * iqr)\n",
    "upper_thresh = q3 + (1.5 * iqr)\n",
    "\n",
    "is_not_outlier = (df['duration'] >= lower_thresh) & (df['duration'] <= upper_thresh)\n",
    "df_no_outliers = df[is_not_outlier][['engagement', 'duration']].copy()"
   ]
  },
  {
   "cell_type": "code",
   "execution_count": 13,
   "metadata": {},
   "outputs": [],
   "source": [
    "bins = list(range(0, 46, 5))\n",
    "df_no_outliers['duration_bin'] = pd.cut(df_no_outliers['duration'], bins)\n",
    "grouped_bins = df_no_outliers.groupby('duration_bin').mean().reset_index()"
   ]
  },
  {
   "cell_type": "code",
   "execution_count": 14,
   "metadata": {},
   "outputs": [
    {
     "data": {
      "text/html": [
       "<div>\n",
       "<style scoped>\n",
       "    .dataframe tbody tr th:only-of-type {\n",
       "        vertical-align: middle;\n",
       "    }\n",
       "\n",
       "    .dataframe tbody tr th {\n",
       "        vertical-align: top;\n",
       "    }\n",
       "\n",
       "    .dataframe thead th {\n",
       "        text-align: right;\n",
       "    }\n",
       "</style>\n",
       "<table border=\"1\" class=\"dataframe\">\n",
       "  <thead>\n",
       "    <tr style=\"text-align: right;\">\n",
       "      <th></th>\n",
       "      <th>duration_bin</th>\n",
       "      <th>engagement</th>\n",
       "      <th>duration</th>\n",
       "    </tr>\n",
       "  </thead>\n",
       "  <tbody>\n",
       "    <tr>\n",
       "      <th>0</th>\n",
       "      <td>(0, 5]</td>\n",
       "      <td>0.078860</td>\n",
       "      <td>2.834020</td>\n",
       "    </tr>\n",
       "    <tr>\n",
       "      <th>1</th>\n",
       "      <td>(5, 10]</td>\n",
       "      <td>0.035796</td>\n",
       "      <td>8.208483</td>\n",
       "    </tr>\n",
       "    <tr>\n",
       "      <th>2</th>\n",
       "      <td>(10, 15]</td>\n",
       "      <td>0.049880</td>\n",
       "      <td>12.349619</td>\n",
       "    </tr>\n",
       "    <tr>\n",
       "      <th>3</th>\n",
       "      <td>(15, 20]</td>\n",
       "      <td>0.060569</td>\n",
       "      <td>17.200580</td>\n",
       "    </tr>\n",
       "    <tr>\n",
       "      <th>4</th>\n",
       "      <td>(20, 25]</td>\n",
       "      <td>0.062505</td>\n",
       "      <td>22.242807</td>\n",
       "    </tr>\n",
       "    <tr>\n",
       "      <th>5</th>\n",
       "      <td>(25, 30]</td>\n",
       "      <td>0.064279</td>\n",
       "      <td>27.078986</td>\n",
       "    </tr>\n",
       "    <tr>\n",
       "      <th>6</th>\n",
       "      <td>(30, 35]</td>\n",
       "      <td>0.065338</td>\n",
       "      <td>32.535417</td>\n",
       "    </tr>\n",
       "    <tr>\n",
       "      <th>7</th>\n",
       "      <td>(35, 40]</td>\n",
       "      <td>0.054438</td>\n",
       "      <td>37.771795</td>\n",
       "    </tr>\n",
       "    <tr>\n",
       "      <th>8</th>\n",
       "      <td>(40, 45]</td>\n",
       "      <td>0.063152</td>\n",
       "      <td>42.622222</td>\n",
       "    </tr>\n",
       "  </tbody>\n",
       "</table>\n",
       "</div>"
      ],
      "text/plain": [
       "  duration_bin  engagement   duration\n",
       "0       (0, 5]    0.078860   2.834020\n",
       "1      (5, 10]    0.035796   8.208483\n",
       "2     (10, 15]    0.049880  12.349619\n",
       "3     (15, 20]    0.060569  17.200580\n",
       "4     (20, 25]    0.062505  22.242807\n",
       "5     (25, 30]    0.064279  27.078986\n",
       "6     (30, 35]    0.065338  32.535417\n",
       "7     (35, 40]    0.054438  37.771795\n",
       "8     (40, 45]    0.063152  42.622222"
      ]
     },
     "execution_count": 14,
     "metadata": {},
     "output_type": "execute_result"
    }
   ],
   "source": [
    "grouped_bins"
   ]
  },
  {
   "cell_type": "code",
   "execution_count": 15,
   "metadata": {},
   "outputs": [],
   "source": [
    "x_ticks = grouped_bins['duration_bin'].apply(lambda x : x.right)\n"
   ]
  },
  {
   "cell_type": "code",
   "execution_count": 16,
   "metadata": {},
   "outputs": [
    {
     "data": {
      "image/png": "[encoded data removed]",
      "text/plain": [
       "<Figure size 640x480 with 1 Axes>"
      ]
     },
     "metadata": {},
     "output_type": "display_data"
    }
   ],
   "source": [
    "sns.barplot(x = x_ticks, y = grouped_bins.engagement, edgecolor = \"black\", color = \"#FF0000\");\n",
    "plt.xlabel('Duration (min)');\n",
    "plt.ylabel('Mean engagement');\n",
    "plt.title('Mean Engagement of Video Based on Duration');"
   ]
  },
  {
   "attachments": {},
   "cell_type": "markdown",
   "metadata": {},
   "source": [
    "# DO LATER: Find a statistical test to see if shorter videos (0 - 5 minutes) have a significantly greater mean engagement compared to other duration videos "
   ]
  },
  {
   "attachments": {},
   "cell_type": "markdown",
   "metadata": {},
   "source": [
    "## When is the best time to upload a video?"
   ]
  },
  {
   "cell_type": "code",
   "execution_count": 17,
   "metadata": {},
   "outputs": [],
   "source": [
    "time_df = df[['published_at', 'view_count', 'like_count', 'comment_count', 'engagement']].copy()\n",
    "time_df['published_at'] = pd.to_datetime(time_df['published_at'])"
   ]
  },
  {
   "cell_type": "code",
   "execution_count": 18,
   "metadata": {},
   "outputs": [],
   "source": [
    "time_df_hour = time_df.groupby(time_df['published_at'].dt.hour).mean()"
   ]
  },
  {
   "cell_type": "code",
   "execution_count": 19,
   "metadata": {},
   "outputs": [
    {
     "data": {
      "image/png": "[encoded data removed]",
      "text/plain": [
       "<Figure size 640x480 with 1 Axes>"
      ]
     },
     "metadata": {},
     "output_type": "display_data"
    }
   ],
   "source": [
    "plt.bar(time_df_hour.index, time_df_hour['engagement'], edgecolor = \"black\", color = \"#FF0000\");\n",
    "plt.xlabel('Hour');\n",
    "plt.ylabel('Engagement');\n",
    "plt.title('Mean Engagement of Videos Based on Hour of Day Published');"
   ]
  },
  {
   "attachments": {},
   "cell_type": "markdown",
   "metadata": {},
   "source": [
    "Hour 9 seems to be when the videos have the best average engagement"
   ]
  },
  {
   "cell_type": "code",
   "execution_count": 20,
   "metadata": {},
   "outputs": [],
   "source": [
    "time_df_day = time_df.groupby(time_df['published_at'].dt.day_name()).mean()\n",
    "time_df_day = time_df_day.reindex(list(pd.Series(pd.date_range('2023-01-01', periods=7)).dt.day_name()))"
   ]
  },
  {
   "cell_type": "code",
   "execution_count": 21,
   "metadata": {},
   "outputs": [
    {
     "data": {
      "image/png": "[encoded data removed]",
      "text/plain": [
       "<Figure size 640x480 with 1 Axes>"
      ]
     },
     "metadata": {},
     "output_type": "display_data"
    }
   ],
   "source": [
    "plt.bar(time_df_day.index, time_df_day['engagement'], edgecolor = \"black\", color = \"#FF0000\");\n",
    "plt.xlabel('Hour');\n",
    "plt.ylabel('Engagement');\n",
    "plt.title('Mean Engagement of Videos Based on Day of Week Published');"
   ]
  },
  {
   "cell_type": "code",
   "execution_count": 22,
   "metadata": {},
   "outputs": [
    {
     "data": {
      "text/html": [
       "<div>\n",
       "<style scoped>\n",
       "    .dataframe tbody tr th:only-of-type {\n",
       "        vertical-align: middle;\n",
       "    }\n",
       "\n",
       "    .dataframe tbody tr th {\n",
       "        vertical-align: top;\n",
       "    }\n",
       "\n",
       "    .dataframe thead th {\n",
       "        text-align: right;\n",
       "    }\n",
       "</style>\n",
       "<table border=\"1\" class=\"dataframe\">\n",
       "  <thead>\n",
       "    <tr style=\"text-align: right;\">\n",
       "      <th></th>\n",
       "      <th>published_at</th>\n",
       "      <th>view_count</th>\n",
       "      <th>like_count</th>\n",
       "      <th>comment_count</th>\n",
       "      <th>engagement</th>\n",
       "    </tr>\n",
       "    <tr>\n",
       "      <th>published_at</th>\n",
       "      <th></th>\n",
       "      <th></th>\n",
       "      <th></th>\n",
       "      <th></th>\n",
       "      <th></th>\n",
       "    </tr>\n",
       "  </thead>\n",
       "  <tbody>\n",
       "    <tr>\n",
       "      <th>Sunday</th>\n",
       "      <td>2023-05-16 10:15:48.823529472</td>\n",
       "      <td>1.016039e+06</td>\n",
       "      <td>42469.817647</td>\n",
       "      <td>3245.000000</td>\n",
       "      <td>0.051519</td>\n",
       "    </tr>\n",
       "    <tr>\n",
       "      <th>Monday</th>\n",
       "      <td>2023-05-20 13:27:56.746753280</td>\n",
       "      <td>1.495678e+06</td>\n",
       "      <td>79523.188312</td>\n",
       "      <td>5208.461039</td>\n",
       "      <td>0.056553</td>\n",
       "    </tr>\n",
       "    <tr>\n",
       "      <th>Tuesday</th>\n",
       "      <td>2023-05-13 11:46:20.952380928</td>\n",
       "      <td>1.408658e+06</td>\n",
       "      <td>51141.442177</td>\n",
       "      <td>4022.129252</td>\n",
       "      <td>0.051761</td>\n",
       "    </tr>\n",
       "    <tr>\n",
       "      <th>Wednesday</th>\n",
       "      <td>2023-05-10 18:35:53.942196480</td>\n",
       "      <td>9.261018e+05</td>\n",
       "      <td>48866.473988</td>\n",
       "      <td>3482.578035</td>\n",
       "      <td>0.065924</td>\n",
       "    </tr>\n",
       "    <tr>\n",
       "      <th>Thursday</th>\n",
       "      <td>2023-05-12 02:39:59.677852416</td>\n",
       "      <td>1.201231e+06</td>\n",
       "      <td>73460.859060</td>\n",
       "      <td>5478.355705</td>\n",
       "      <td>0.064655</td>\n",
       "    </tr>\n",
       "    <tr>\n",
       "      <th>Friday</th>\n",
       "      <td>2023-05-10 23:05:08.474025984</td>\n",
       "      <td>1.034445e+06</td>\n",
       "      <td>88821.889610</td>\n",
       "      <td>7490.272727</td>\n",
       "      <td>0.084934</td>\n",
       "    </tr>\n",
       "    <tr>\n",
       "      <th>Saturday</th>\n",
       "      <td>2023-05-14 03:38:57.354430208</td>\n",
       "      <td>1.026771e+06</td>\n",
       "      <td>45158.208861</td>\n",
       "      <td>3372.310127</td>\n",
       "      <td>0.056522</td>\n",
       "    </tr>\n",
       "  </tbody>\n",
       "</table>\n",
       "</div>"
      ],
      "text/plain": [
       "                              published_at    view_count    like_count  \\\n",
       "published_at                                                             \n",
       "Sunday       2023-05-16 10:15:48.823529472  1.016039e+06  42469.817647   \n",
       "Monday       2023-05-20 13:27:56.746753280  1.495678e+06  79523.188312   \n",
       "Tuesday      2023-05-13 11:46:20.952380928  1.408658e+06  51141.442177   \n",
       "Wednesday    2023-05-10 18:35:53.942196480  9.261018e+05  48866.473988   \n",
       "Thursday     2023-05-12 02:39:59.677852416  1.201231e+06  73460.859060   \n",
       "Friday       2023-05-10 23:05:08.474025984  1.034445e+06  88821.889610   \n",
       "Saturday     2023-05-14 03:38:57.354430208  1.026771e+06  45158.208861   \n",
       "\n",
       "              comment_count  engagement  \n",
       "published_at                             \n",
       "Sunday          3245.000000    0.051519  \n",
       "Monday          5208.461039    0.056553  \n",
       "Tuesday         4022.129252    0.051761  \n",
       "Wednesday       3482.578035    0.065924  \n",
       "Thursday        5478.355705    0.064655  \n",
       "Friday          7490.272727    0.084934  \n",
       "Saturday        3372.310127    0.056522  "
      ]
     },
     "execution_count": 22,
     "metadata": {},
     "output_type": "execute_result"
    }
   ],
   "source": [
    "time_df_day"
   ]
  },
  {
   "cell_type": "code",
   "execution_count": 23,
   "metadata": {},
   "outputs": [],
   "source": [
    "time_df_month = time_df.groupby(time_df['published_at'].dt.month.map({1: 'January', 2: 'February', 3: 'March', 4: 'April',\n",
    "                                            5: 'May', 6: 'June', 7: 'July', 8: 'August',\n",
    "                                            9: 'September', 10: 'October', 11: 'November', 12: 'December'})).mean()\n"
   ]
  },
  {
   "cell_type": "code",
   "execution_count": 24,
   "metadata": {},
   "outputs": [
    {
     "data": {
      "image/png": "[encoded data removed]",
      "text/plain": [
       "<Figure size 640x480 with 1 Axes>"
      ]
     },
     "metadata": {},
     "output_type": "display_data"
    }
   ],
   "source": [
    "plt.bar(time_df_month.index, time_df_month['engagement'], edgecolor = \"black\", color = \"#FF0000\");\n",
    "plt.xlabel('Month');\n",
    "plt.ylabel('Engagement');\n",
    "plt.title('Mean Engagement of Videos Based on Hour of Day Published');"
   ]
  },
  {
   "cell_type": "code",
   "execution_count": 25,
   "metadata": {},
   "outputs": [
    {
     "data": {
      "image/png": "[encoded data removed]",
      "text/plain": [
       "<Figure size 640x480 with 1 Axes>"
      ]
     },
     "metadata": {},
     "output_type": "display_data"
    }
   ],
   "source": [
    "time_df_year = time_df.groupby(time_df['published_at'].dt.year).mean()\n",
    "plt.bar(time_df_year.index, time_df_year['engagement'], edgecolor = \"black\", color = \"#FF0000\");\n",
    "plt.xlabel('Year');\n",
    "plt.ylabel('Engagement');\n",
    "plt.title('Mean Engagement of Videos Based on Day of Week Published');\n"
   ]
  },
  {
   "attachments": {},
   "cell_type": "markdown",
   "metadata": {},
   "source": [
    "## Does the number of tags affect engagment?"
   ]
  },
  {
   "attachments": {},
   "cell_type": "markdown",
   "metadata": {},
   "source": [
    "## Most Popular Trending Categories"
   ]
  },
  {
   "cell_type": "code",
   "execution_count": 26,
   "metadata": {},
   "outputs": [
    {
     "data": {
      "text/plain": [
       "published_at  category_title  \n",
       "1             Autos & Vehicles    2\n",
       "              Comedy              1\n",
       "              Entertainment       4\n",
       "              Film & Animation    1\n",
       "              Gaming              9\n",
       "                                 ..\n",
       "31            Gaming              5\n",
       "              Music               6\n",
       "              News & Politics     1\n",
       "              People & Blogs      3\n",
       "              Sports              2\n",
       "Name: category_title, Length: 268, dtype: int64"
      ]
     },
     "execution_count": 26,
     "metadata": {},
     "output_type": "execute_result"
    }
   ],
   "source": [
    "df.groupby(by = [df['published_at'].dt.day,'category_title'])['category_title'].count()"
   ]
  },
  {
   "cell_type": "code",
   "execution_count": 27,
   "metadata": {},
   "outputs": [
    {
     "data": {
      "text/plain": [
       "array(['Music', 'Sports', 'Entertainment', 'People & Blogs',\n",
       "       'Science & Technology', 'Comedy', 'Film & Animation', 'Gaming',\n",
       "       'Howto & Style', 'Education', 'News & Politics', 'Travel & Events',\n",
       "       'Autos & Vehicles', 'Pets & Animals'], dtype=object)"
      ]
     },
     "execution_count": 27,
     "metadata": {},
     "output_type": "execute_result"
    }
   ],
   "source": [
    "df['category_title'].unique()"
   ]
  },
  {
   "cell_type": "code",
   "execution_count": 35,
   "metadata": {},
   "outputs": [
    {
     "data": {
      "application/vnd.plotly.v1+json": {
       "config": {
        "plotlyServerURL": "https://plot.ly"
       },
       "data": [
        {
         "alignmentgroup": "True",
         "hovertemplate": "x=%{x}<br>y=%{y}<extra></extra>",
         "legendgroup": "",
         "marker": {
          "color": "#636efa",
          "pattern": {
           "shape": ""
          }
         },
         "name": "",
         "offsetgroup": "",
         "orientation": "v",
         "showlegend": false,
         "textposition": "auto",
         "type": "bar",
         "x": [
          "Gaming",
          "Entertainment",
          "Sports",
          "Music",
          "People & Blogs",
          "Comedy",
          "Film & Animation",
          "News & Politics",
          "Science & Technology",
          "Howto & Style",
          "Autos & Vehicles",
          "Education",
          "Travel & Events",
          "Pets & Animals"
         ],
         "xaxis": "x",
         "y": [
          236,
          201,
          194,
          181,
          73,
          43,
          42,
          33,
          29,
          23,
          21,
          17,
          8,
          4
         ],
         "yaxis": "y"
        }
       ],
       "layout": {
        "barmode": "relative",
        "legend": {
         "tracegroupgap": 0
        },
        "margin": {
         "t": 60
        },
        "template": {
         "data": {
          "bar": [
           {
            "error_x": {
             "color": "#2a3f5f"
            },
            "error_y": {
             "color": "#2a3f5f"
            },
            "marker": {
             "line": {
              "color": "#E5ECF6",
              "width": 0.5
             },
             "pattern": {
              "fillmode": "overlay",
              "size": 10,
              "solidity": 0.2
             }
            },
            "type": "bar"
           }
          ],
          "barpolar": [
           {
            "marker": {
             "line": {
              "color": "#E5ECF6",
              "width": 0.5
             },
             "pattern": {
              "fillmode": "overlay",
              "size": 10,
              "solidity": 0.2
             }
            },
            "type": "barpolar"
           }
          ],
          "carpet": [
           {
            "aaxis": {
             "endlinecolor": "#2a3f5f",
             "gridcolor": "white",
             "linecolor": "white",
             "minorgridcolor": "white",
             "startlinecolor": "#2a3f5f"
            },
            "baxis": {
             "endlinecolor": "#2a3f5f",
             "gridcolor": "white",
             "linecolor": "white",
             "minorgridcolor": "white",
             "startlinecolor": "#2a3f5f"
            },
            "type": "carpet"
           }
          ],
          "choropleth": [
           {
            "colorbar": {
             "outlinewidth": 0,
             "ticks": ""
            },
            "type": "choropleth"
           }
          ],
          "contour": [
           {
            "colorbar": {
             "outlinewidth": 0,
             "ticks": ""
            },
            "colorscale": [
             [
              0,
              "#0d0887"
             ],
             [
              0.1111111111111111,
              "#46039f"
             ],
             [
              0.2222222222222222,
              "#7201a8"
             ],
             [
              0.3333333333333333,
              "#9c179e"
             ],
             [
              0.4444444444444444,
              "#bd3786"
             ],
             [
              0.5555555555555556,
              "#d8576b"
             ],
             [
              0.6666666666666666,
              "#ed7953"
             ],
             [
              0.7777777777777778,
              "#fb9f3a"
             ],
             [
              0.8888888888888888,
              "#fdca26"
             ],
             [
              1,
              "#f0f921"
             ]
            ],
            "type": "contour"
           }
          ],
          "contourcarpet": [
           {
            "colorbar": {
             "outlinewidth": 0,
             "ticks": ""
            },
            "type": "contourcarpet"
           }
          ],
          "heatmap": [
           {
            "colorbar": {
             "outlinewidth": 0,
             "ticks": ""
            },
            "colorscale": [
             [
              0,
              "#0d0887"
             ],
             [
              0.1111111111111111,
              "#46039f"
             ],
             [
              0.2222222222222222,
              "#7201a8"
             ],
             [
              0.3333333333333333,
              "#9c179e"
             ],
             [
              0.4444444444444444,
              "#bd3786"
             ],
             [
              0.5555555555555556,
              "#d8576b"
             ],
             [
              0.6666666666666666,
              "#ed7953"
             ],
             [
              0.7777777777777778,
              "#fb9f3a"
             ],
             [
              0.8888888888888888,
              "#fdca26"
             ],
             [
              1,
              "#f0f921"
             ]
            ],
            "type": "heatmap"
           }
          ],
          "heatmapgl": [
           {
            "colorbar": {
             "outlinewidth": 0,
             "ticks": ""
            },
            "colorscale": [
             [
              0,
              "#0d0887"
             ],
             [
              0.1111111111111111,
              "#46039f"
             ],
             [
              0.2222222222222222,
              "#7201a8"
             ],
             [
              0.3333333333333333,
              "#9c179e"
             ],
             [
              0.4444444444444444,
              "#bd3786"
             ],
             [
              0.5555555555555556,
              "#d8576b"
             ],
             [
              0.6666666666666666,
              "#ed7953"
             ],
             [
              0.7777777777777778,
              "#fb9f3a"
             ],
             [
              0.8888888888888888,
              "#fdca26"
             ],
             [
              1,
              "#f0f921"
             ]
            ],
            "type": "heatmapgl"
           }
          ],
          "histogram": [
           {
            "marker": {
             "pattern": {
              "fillmode": "overlay",
              "size": 10,
              "solidity": 0.2
             }
            },
            "type": "histogram"
           }
          ],
          "histogram2d": [
           {
            "colorbar": {
             "outlinewidth": 0,
             "ticks": ""
            },
            "colorscale": [
             [
              0,
              "#0d0887"
             ],
             [
              0.1111111111111111,
              "#46039f"
             ],
             [
              0.2222222222222222,
              "#7201a8"
             ],
             [
              0.3333333333333333,
              "#9c179e"
             ],
             [
              0.4444444444444444,
              "#bd3786"
             ],
             [
              0.5555555555555556,
              "#d8576b"
             ],
             [
              0.6666666666666666,
              "#ed7953"
             ],
             [
              0.7777777777777778,
              "#fb9f3a"
             ],
             [
              0.8888888888888888,
              "#fdca26"
             ],
             [
              1,
              "#f0f921"
             ]
            ],
            "type": "histogram2d"
           }
          ],
          "histogram2dcontour": [
           {
            "colorbar": {
             "outlinewidth": 0,
             "ticks": ""
            },
            "colorscale": [
             [
              0,
              "#0d0887"
             ],
             [
              0.1111111111111111,
              "#46039f"
             ],
             [
              0.2222222222222222,
              "#7201a8"
             ],
             [
              0.3333333333333333,
              "#9c179e"
             ],
             [
              0.4444444444444444,
              "#bd3786"
             ],
             [
              0.5555555555555556,
              "#d8576b"
             ],
             [
              0.6666666666666666,
              "#ed7953"
             ],
             [
              0.7777777777777778,
              "#fb9f3a"
             ],
             [
              0.8888888888888888,
              "#fdca26"
             ],
             [
              1,
              "#f0f921"
             ]
            ],
            "type": "histogram2dcontour"
           }
          ],
          "mesh3d": [
           {
            "colorbar": {
             "outlinewidth": 0,
             "ticks": ""
            },
            "type": "mesh3d"
           }
          ],
          "parcoords": [
           {
            "line": {
             "colorbar": {
              "outlinewidth": 0,
              "ticks": ""
             }
            },
            "type": "parcoords"
           }
          ],
          "pie": [
           {
            "automargin": true,
            "type": "pie"
           }
          ],
          "scatter": [
           {
            "fillpattern": {
             "fillmode": "overlay",
             "size": 10,
             "solidity": 0.2
            },
            "type": "scatter"
           }
          ],
          "scatter3d": [
           {
            "line": {
             "colorbar": {
              "outlinewidth": 0,
              "ticks": ""
             }
            },
            "marker": {
             "colorbar": {
              "outlinewidth": 0,
              "ticks": ""
             }
            },
            "type": "scatter3d"
           }
          ],
          "scattercarpet": [
           {
            "marker": {
             "colorbar": {
              "outlinewidth": 0,
              "ticks": ""
             }
            },
            "type": "scattercarpet"
           }
          ],
          "scattergeo": [
           {
            "marker": {
             "colorbar": {
              "outlinewidth": 0,
              "ticks": ""
             }
            },
            "type": "scattergeo"
           }
          ],
          "scattergl": [
           {
            "marker": {
             "colorbar": {
              "outlinewidth": 0,
              "ticks": ""
             }
            },
            "type": "scattergl"
           }
          ],
          "scattermapbox": [
           {
            "marker": {
             "colorbar": {
              "outlinewidth": 0,
              "ticks": ""
             }
            },
            "type": "scattermapbox"
           }
          ],
          "scatterpolar": [
           {
            "marker": {
             "colorbar": {
              "outlinewidth": 0,
              "ticks": ""
             }
            },
            "type": "scatterpolar"
           }
          ],
          "scatterpolargl": [
           {
            "marker": {
             "colorbar": {
              "outlinewidth": 0,
              "ticks": ""
             }
            },
            "type": "scatterpolargl"
           }
          ],
          "scatterternary": [
           {
            "marker": {
             "colorbar": {
              "outlinewidth": 0,
              "ticks": ""
             }
            },
            "type": "scatterternary"
           }
          ],
          "surface": [
           {
            "colorbar": {
             "outlinewidth": 0,
             "ticks": ""
            },
            "colorscale": [
             [
              0,
              "#0d0887"
             ],
             [
              0.1111111111111111,
              "#46039f"
             ],
             [
              0.2222222222222222,
              "#7201a8"
             ],
             [
              0.3333333333333333,
              "#9c179e"
             ],
             [
              0.4444444444444444,
              "#bd3786"
             ],
             [
              0.5555555555555556,
              "#d8576b"
             ],
             [
              0.6666666666666666,
              "#ed7953"
             ],
             [
              0.7777777777777778,
              "#fb9f3a"
             ],
             [
              0.8888888888888888,
              "#fdca26"
             ],
             [
              1,
              "#f0f921"
             ]
            ],
            "type": "surface"
           }
          ],
          "table": [
           {
            "cells": {
             "fill": {
              "color": "#EBF0F8"
             },
             "line": {
              "color": "white"
             }
            },
            "header": {
             "fill": {
              "color": "#C8D4E3"
             },
             "line": {
              "color": "white"
             }
            },
            "type": "table"
           }
          ]
         },
         "layout": {
          "annotationdefaults": {
           "arrowcolor": "#2a3f5f",
           "arrowhead": 0,
           "arrowwidth": 1
          },
          "autotypenumbers": "strict",
          "coloraxis": {
           "colorbar": {
            "outlinewidth": 0,
            "ticks": ""
           }
          },
          "colorscale": {
           "diverging": [
            [
             0,
             "#8e0152"
            ],
            [
             0.1,
             "#c51b7d"
            ],
            [
             0.2,
             "#de77ae"
            ],
            [
             0.3,
             "#f1b6da"
            ],
            [
             0.4,
             "#fde0ef"
            ],
            [
             0.5,
             "#f7f7f7"
            ],
            [
             0.6,
             "#e6f5d0"
            ],
            [
             0.7,
             "#b8e186"
            ],
            [
             0.8,
             "#7fbc41"
            ],
            [
             0.9,
             "#4d9221"
            ],
            [
             1,
             "#276419"
            ]
           ],
           "sequential": [
            [
             0,
             "#0d0887"
            ],
            [
             0.1111111111111111,
             "#46039f"
            ],
            [
             0.2222222222222222,
             "#7201a8"
            ],
            [
             0.3333333333333333,
             "#9c179e"
            ],
            [
             0.4444444444444444,
             "#bd3786"
            ],
            [
             0.5555555555555556,
             "#d8576b"
            ],
            [
             0.6666666666666666,
             "#ed7953"
            ],
            [
             0.7777777777777778,
             "#fb9f3a"
            ],
            [
             0.8888888888888888,
             "#fdca26"
            ],
            [
             1,
             "#f0f921"
            ]
           ],
           "sequentialminus": [
            [
             0,
             "#0d0887"
            ],
            [
             0.1111111111111111,
             "#46039f"
            ],
            [
             0.2222222222222222,
             "#7201a8"
            ],
            [
             0.3333333333333333,
             "#9c179e"
            ],
            [
             0.4444444444444444,
             "#bd3786"
            ],
            [
             0.5555555555555556,
             "#d8576b"
            ],
            [
             0.6666666666666666,
             "#ed7953"
            ],
            [
             0.7777777777777778,
             "#fb9f3a"
            ],
            [
             0.8888888888888888,
             "#fdca26"
            ],
            [
             1,
             "#f0f921"
            ]
           ]
          },
          "colorway": [
           "#636efa",
           "#EF553B",
           "#00cc96",
           "#ab63fa",
           "#FFA15A",
           "#19d3f3",
           "#FF6692",
           "#B6E880",
           "#FF97FF",
           "#FECB52"
          ],
          "font": {
           "color": "#2a3f5f"
          },
          "geo": {
           "bgcolor": "white",
           "lakecolor": "white",
           "landcolor": "#E5ECF6",
           "showlakes": true,
           "showland": true,
           "subunitcolor": "white"
          },
          "hoverlabel": {
           "align": "left"
          },
          "hovermode": "closest",
          "mapbox": {
           "style": "light"
          },
          "paper_bgcolor": "white",
          "plot_bgcolor": "#E5ECF6",
          "polar": {
           "angularaxis": {
            "gridcolor": "white",
            "linecolor": "white",
            "ticks": ""
           },
           "bgcolor": "#E5ECF6",
           "radialaxis": {
            "gridcolor": "white",
            "linecolor": "white",
            "ticks": ""
           }
          },
          "scene": {
           "xaxis": {
            "backgroundcolor": "#E5ECF6",
            "gridcolor": "white",
            "gridwidth": 2,
            "linecolor": "white",
            "showbackground": true,
            "ticks": "",
            "zerolinecolor": "white"
           },
           "yaxis": {
            "backgroundcolor": "#E5ECF6",
            "gridcolor": "white",
            "gridwidth": 2,
            "linecolor": "white",
            "showbackground": true,
            "ticks": "",
            "zerolinecolor": "white"
           },
           "zaxis": {
            "backgroundcolor": "#E5ECF6",
            "gridcolor": "white",
            "gridwidth": 2,
            "linecolor": "white",
            "showbackground": true,
            "ticks": "",
            "zerolinecolor": "white"
           }
          },
          "shapedefaults": {
           "line": {
            "color": "#2a3f5f"
           }
          },
          "ternary": {
           "aaxis": {
            "gridcolor": "white",
            "linecolor": "white",
            "ticks": ""
           },
           "baxis": {
            "gridcolor": "white",
            "linecolor": "white",
            "ticks": ""
           },
           "bgcolor": "#E5ECF6",
           "caxis": {
            "gridcolor": "white",
            "linecolor": "white",
            "ticks": ""
           }
          },
          "title": {
           "x": 0.05
          },
          "xaxis": {
           "automargin": true,
           "gridcolor": "white",
           "linecolor": "white",
           "ticks": "",
           "title": {
            "standoff": 15
           },
           "zerolinecolor": "white",
           "zerolinewidth": 2
          },
          "yaxis": {
           "automargin": true,
           "gridcolor": "white",
           "linecolor": "white",
           "ticks": "",
           "title": {
            "standoff": 15
           },
           "zerolinecolor": "white",
           "zerolinewidth": 2
          }
         }
        },
        "xaxis": {
         "anchor": "y",
         "domain": [
          0,
          1
         ],
         "title": {
          "text": "x"
         }
        },
        "yaxis": {
         "anchor": "x",
         "domain": [
          0,
          1
         ],
         "title": {
          "text": "y"
         }
        }
       }
      }
     },
     "metadata": {},
     "output_type": "display_data"
    }
   ],
   "source": [
    "px.bar(x = df['category_title'].value_counts().index, y = df['category_title'].value_counts())"
   ]
  },
  {
   "cell_type": "code",
   "execution_count": 37,
   "metadata": {},
   "outputs": [],
   "source": [
    "from datetime import datetime"
   ]
  },
  {
   "cell_type": "code",
   "execution_count": 40,
   "metadata": {},
   "outputs": [
    {
     "data": {
      "text/html": [
       "<div>\n",
       "<style scoped>\n",
       "    .dataframe tbody tr th:only-of-type {\n",
       "        vertical-align: middle;\n",
       "    }\n",
       "\n",
       "    .dataframe tbody tr th {\n",
       "        vertical-align: top;\n",
       "    }\n",
       "\n",
       "    .dataframe thead th {\n",
       "        text-align: right;\n",
       "    }\n",
       "</style>\n",
       "<table border=\"1\" class=\"dataframe\">\n",
       "  <thead>\n",
       "    <tr style=\"text-align: right;\">\n",
       "      <th></th>\n",
       "      <th>published_at</th>\n",
       "      <th>video_id</th>\n",
       "      <th>channel_id</th>\n",
       "      <th>title</th>\n",
       "      <th>channel_title</th>\n",
       "      <th>view_count</th>\n",
       "      <th>like_count</th>\n",
       "      <th>comment_count</th>\n",
       "      <th>tags</th>\n",
       "      <th>duration</th>\n",
       "      <th>category_id</th>\n",
       "      <th>timestamp</th>\n",
       "      <th>category_title</th>\n",
       "      <th>engagement</th>\n",
       "    </tr>\n",
       "  </thead>\n",
       "  <tbody>\n",
       "    <tr>\n",
       "      <th>76</th>\n",
       "      <td>2023-04-20 14:08:39</td>\n",
       "      <td>-1wcilQ58hI</td>\n",
       "      <td>UCtI0Hodo5o5dUb67FeUjDeA</td>\n",
       "      <td>Starship Flight Test</td>\n",
       "      <td>SpaceX</td>\n",
       "      <td>9242696</td>\n",
       "      <td>237806</td>\n",
       "      <td>11465</td>\n",
       "      <td>[SpaceX, Space, Starship, Super Heavy, Mars, S...</td>\n",
       "      <td>53.350000</td>\n",
       "      <td>28</td>\n",
       "      <td>2023-04-20 23:00:10.163792</td>\n",
       "      <td>Science &amp; Technology</td>\n",
       "      <td>0.026970</td>\n",
       "    </tr>\n",
       "    <tr>\n",
       "      <th>78</th>\n",
       "      <td>2023-04-20 15:26:39</td>\n",
       "      <td>E7WG8bnKvuw</td>\n",
       "      <td>UC0sEIyXXalzD1lbwm3D2xpA</td>\n",
       "      <td>Meet the Queens of All Stars 8! 🌟 | QUEEN RUVE...</td>\n",
       "      <td>RuPaul's Drag Race</td>\n",
       "      <td>754412</td>\n",
       "      <td>33294</td>\n",
       "      <td>3990</td>\n",
       "      <td>[vh1, rupaul, rupaul's drag race, drag race]</td>\n",
       "      <td>21.716667</td>\n",
       "      <td>24</td>\n",
       "      <td>2023-04-20 23:00:10.163792</td>\n",
       "      <td>Entertainment</td>\n",
       "      <td>0.049421</td>\n",
       "    </tr>\n",
       "    <tr>\n",
       "      <th>79</th>\n",
       "      <td>2023-04-20 15:02:54</td>\n",
       "      <td>I0jEuZxo87M</td>\n",
       "      <td>UCnmGIkw-KdI0W5siakKPKog</td>\n",
       "      <td>Overnight in the World's Oldest Hotel</td>\n",
       "      <td>Ryan Trahan</td>\n",
       "      <td>1312885</td>\n",
       "      <td>82331</td>\n",
       "      <td>3656</td>\n",
       "      <td>[Ryan, Trahan, worlds oldest hotel, worlds old...</td>\n",
       "      <td>11.350000</td>\n",
       "      <td>24</td>\n",
       "      <td>2023-04-20 23:00:10.163792</td>\n",
       "      <td>Entertainment</td>\n",
       "      <td>0.065495</td>\n",
       "    </tr>\n",
       "    <tr>\n",
       "      <th>80</th>\n",
       "      <td>2023-04-20 15:00:04</td>\n",
       "      <td>eplNpIVrvEo</td>\n",
       "      <td>UC0ZV6M2THA81QT9hrVWJG3A</td>\n",
       "      <td>Apex Legends Veiled Collection Event</td>\n",
       "      <td>Apex Legends</td>\n",
       "      <td>505534</td>\n",
       "      <td>20362</td>\n",
       "      <td>1420</td>\n",
       "      <td>[apex legends, apex, veiled collection event a...</td>\n",
       "      <td>1.650000</td>\n",
       "      <td>20</td>\n",
       "      <td>2023-04-20 23:00:10.163792</td>\n",
       "      <td>Gaming</td>\n",
       "      <td>0.043087</td>\n",
       "    </tr>\n",
       "    <tr>\n",
       "      <th>81</th>\n",
       "      <td>2023-04-20 05:11:16</td>\n",
       "      <td>7DiMiuZl34Y</td>\n",
       "      <td>UC9-OpMMVoNP5o10_Iyq7Ndw</td>\n",
       "      <td>Chuck Reacts to Dillon Brooks Calling LeBron \"...</td>\n",
       "      <td>Bleacher Report</td>\n",
       "      <td>745073</td>\n",
       "      <td>6428</td>\n",
       "      <td>2621</td>\n",
       "      <td>[bleacher report, br, nba, dillon brooks, dill...</td>\n",
       "      <td>2.100000</td>\n",
       "      <td>17</td>\n",
       "      <td>2023-04-20 23:00:10.163792</td>\n",
       "      <td>Sports</td>\n",
       "      <td>0.012145</td>\n",
       "    </tr>\n",
       "    <tr>\n",
       "      <th>95</th>\n",
       "      <td>2023-04-20 03:32:58</td>\n",
       "      <td>t1v050SqcD8</td>\n",
       "      <td>UCE6acMV3m35znLcf0JGNn7Q</td>\n",
       "      <td>I Asked 7 YouTubers for ASMR Ideas... I went t...</td>\n",
       "      <td>Gibi ASMR</td>\n",
       "      <td>445027</td>\n",
       "      <td>34827</td>\n",
       "      <td>2584</td>\n",
       "      <td>[gibi, asmr, gibi asmr, requests, i asked yout...</td>\n",
       "      <td>51.366667</td>\n",
       "      <td>24</td>\n",
       "      <td>2023-04-20 23:00:10.163792</td>\n",
       "      <td>Entertainment</td>\n",
       "      <td>0.084065</td>\n",
       "    </tr>\n",
       "    <tr>\n",
       "      <th>156</th>\n",
       "      <td>2023-04-20 22:00:08</td>\n",
       "      <td>3vO4E7SB2OU</td>\n",
       "      <td>UCP8rCSNr4WqZBgT3OmqhDHg</td>\n",
       "      <td>Wisin, Anuel AA - MI EXXX (Official Video)</td>\n",
       "      <td>Wisin</td>\n",
       "      <td>2145883</td>\n",
       "      <td>176578</td>\n",
       "      <td>8775</td>\n",
       "      <td>[wisin, anuel, wisin anuel aa, anuel aa, mi ex...</td>\n",
       "      <td>3.716667</td>\n",
       "      <td>10</td>\n",
       "      <td>2023-04-21 12:12:26.441957</td>\n",
       "      <td>Music</td>\n",
       "      <td>0.086376</td>\n",
       "    </tr>\n",
       "    <tr>\n",
       "      <th>157</th>\n",
       "      <td>2023-04-20 21:46:28</td>\n",
       "      <td>xrOj7vOxrkw</td>\n",
       "      <td>UCEVVENPnHv-kcp2PqQuJvHg</td>\n",
       "      <td>HEATED!! Gervonta Davis vs. Ryan Garcia • FULL...</td>\n",
       "      <td>Seconds Out</td>\n",
       "      <td>699939</td>\n",
       "      <td>10860</td>\n",
       "      <td>4683</td>\n",
       "      <td>[boxing, secondsout, seconds out, combat, spor...</td>\n",
       "      <td>31.433333</td>\n",
       "      <td>17</td>\n",
       "      <td>2023-04-21 12:12:26.441957</td>\n",
       "      <td>Sports</td>\n",
       "      <td>0.022206</td>\n",
       "    </tr>\n",
       "    <tr>\n",
       "      <th>158</th>\n",
       "      <td>2023-04-20 22:03:37</td>\n",
       "      <td>dRlNkXC4AZw</td>\n",
       "      <td>UCf8YPuOWXlpTS7RibaJlP4g</td>\n",
       "      <td>Roma vs. Feyenoord: Extended Highlights | UEL ...</td>\n",
       "      <td>CBS Sports Golazo - Europe</td>\n",
       "      <td>235218</td>\n",
       "      <td>2841</td>\n",
       "      <td>306</td>\n",
       "      <td>[Feyenoord, Roma, Roma vs. Feyenoord]</td>\n",
       "      <td>15.300000</td>\n",
       "      <td>17</td>\n",
       "      <td>2023-04-21 12:12:26.441957</td>\n",
       "      <td>Sports</td>\n",
       "      <td>0.013379</td>\n",
       "    </tr>\n",
       "    <tr>\n",
       "      <th>159</th>\n",
       "      <td>2023-04-20 21:38:47</td>\n",
       "      <td>XotL1fX07pg</td>\n",
       "      <td>UCYBetkejPxK8t_41zueazcA</td>\n",
       "      <td>24 Youtuber EASTER EGGS In Video Games</td>\n",
       "      <td>T5G</td>\n",
       "      <td>1144150</td>\n",
       "      <td>26260</td>\n",
       "      <td>596</td>\n",
       "      <td>[video games, 24 Youtuber EASTER EGGS In Video...</td>\n",
       "      <td>9.266667</td>\n",
       "      <td>20</td>\n",
       "      <td>2023-04-21 12:12:26.441957</td>\n",
       "      <td>Gaming</td>\n",
       "      <td>0.023472</td>\n",
       "    </tr>\n",
       "    <tr>\n",
       "      <th>162</th>\n",
       "      <td>2023-04-20 22:20:09</td>\n",
       "      <td>W9If4-IhzM0</td>\n",
       "      <td>UCzrM_068Odho89mTRrrxqbA</td>\n",
       "      <td>Peso Pluma, Jasiel Nuñez - Rosa Pastel (Offici...</td>\n",
       "      <td>Peso Pluma</td>\n",
       "      <td>1518418</td>\n",
       "      <td>105352</td>\n",
       "      <td>4192</td>\n",
       "      <td>[peso pluma, jasiel nuñez, rosa pastel, corrid...</td>\n",
       "      <td>3.483333</td>\n",
       "      <td>10</td>\n",
       "      <td>2023-04-21 12:12:26.441957</td>\n",
       "      <td>Music</td>\n",
       "      <td>0.072144</td>\n",
       "    </tr>\n",
       "    <tr>\n",
       "      <th>163</th>\n",
       "      <td>2023-04-20 20:34:13</td>\n",
       "      <td>k_DIGRR3vkg</td>\n",
       "      <td>UCAVojJ1k03GZzjSbdXXunkw</td>\n",
       "      <td>Well... This Took A Turn</td>\n",
       "      <td>Shane2</td>\n",
       "      <td>415486</td>\n",
       "      <td>32689</td>\n",
       "      <td>4335</td>\n",
       "      <td>[Shane, Dawson, conspiracy, theories, journali...</td>\n",
       "      <td>32.883333</td>\n",
       "      <td>22</td>\n",
       "      <td>2023-04-21 12:12:26.441957</td>\n",
       "      <td>People &amp; Blogs</td>\n",
       "      <td>0.089110</td>\n",
       "    </tr>\n",
       "    <tr>\n",
       "      <th>167</th>\n",
       "      <td>2023-04-20 17:00:11</td>\n",
       "      <td>zBukbgTN0cE</td>\n",
       "      <td>UCul9agDzTZxruNd9wEUWL7w</td>\n",
       "      <td>Kali Uchis - Moonlight (Official Music Video)</td>\n",
       "      <td>KaliUchisVEVO</td>\n",
       "      <td>603973</td>\n",
       "      <td>73106</td>\n",
       "      <td>3062</td>\n",
       "      <td>[Kali, Uchis, Moonlight, Interscope, Records]</td>\n",
       "      <td>3.133333</td>\n",
       "      <td>10</td>\n",
       "      <td>2023-04-21 12:12:26.441957</td>\n",
       "      <td>Music</td>\n",
       "      <td>0.126112</td>\n",
       "    </tr>\n",
       "    <tr>\n",
       "      <th>207</th>\n",
       "      <td>2023-04-20 19:30:02</td>\n",
       "      <td>OuJ4Uisp0Bo</td>\n",
       "      <td>UCsvn_Po0SmunchJYOWpOxMg</td>\n",
       "      <td>The Super Mario Bros. Movie (dunkview)</td>\n",
       "      <td>videogamedunkey</td>\n",
       "      <td>1760189</td>\n",
       "      <td>97107</td>\n",
       "      <td>3654</td>\n",
       "      <td>[super mario movie, mario movie review, mario ...</td>\n",
       "      <td>5.350000</td>\n",
       "      <td>20</td>\n",
       "      <td>2023-04-21 23:00:10.446851</td>\n",
       "      <td>Gaming</td>\n",
       "      <td>0.057244</td>\n",
       "    </tr>\n",
       "    <tr>\n",
       "      <th>219</th>\n",
       "      <td>2023-04-20 22:29:34</td>\n",
       "      <td>5Bg8PAgItxo</td>\n",
       "      <td>UCkRP0nS2qERsw-U-OTLbI0A</td>\n",
       "      <td>20-year-old killed by rock thrown at car</td>\n",
       "      <td>FOX31 Denver</td>\n",
       "      <td>516279</td>\n",
       "      <td>7574</td>\n",
       "      <td>3820</td>\n",
       "      <td>[denver, colorado, news, kdvr, fox31, Jeffco, ...</td>\n",
       "      <td>1.983333</td>\n",
       "      <td>25</td>\n",
       "      <td>2023-04-21 23:00:10.446851</td>\n",
       "      <td>News &amp; Politics</td>\n",
       "      <td>0.022069</td>\n",
       "    </tr>\n",
       "    <tr>\n",
       "      <th>222</th>\n",
       "      <td>2023-04-20 22:02:23</td>\n",
       "      <td>-BwUyTrU9fo</td>\n",
       "      <td>UCBJycsmduvYEL83R_U4JriQ</td>\n",
       "      <td>I Spent $40,000 to Unbox a Sealed Original iPh...</td>\n",
       "      <td>Marques Brownlee</td>\n",
       "      <td>2075297</td>\n",
       "      <td>141947</td>\n",
       "      <td>7260</td>\n",
       "      <td>[original iphone, sealed iphone, MKBHD, first ...</td>\n",
       "      <td>13.400000</td>\n",
       "      <td>28</td>\n",
       "      <td>2023-04-21 23:00:10.446851</td>\n",
       "      <td>Science &amp; Technology</td>\n",
       "      <td>0.071897</td>\n",
       "    </tr>\n",
       "    <tr>\n",
       "      <th>227</th>\n",
       "      <td>2023-04-20 18:00:09</td>\n",
       "      <td>xnJ1NxRT97A</td>\n",
       "      <td>UCmlkznD61Olu82oYGFr8gxg</td>\n",
       "      <td>GloRilla - Unh Unh (Official Music Video)</td>\n",
       "      <td>GloRillaVEVO</td>\n",
       "      <td>338831</td>\n",
       "      <td>11998</td>\n",
       "      <td>897</td>\n",
       "      <td>[GloRilla, Unh, CMG/Interscope, Records, Hip, ...</td>\n",
       "      <td>2.883333</td>\n",
       "      <td>10</td>\n",
       "      <td>2023-04-21 23:00:10.446851</td>\n",
       "      <td>Music</td>\n",
       "      <td>0.038057</td>\n",
       "    </tr>\n",
       "    <tr>\n",
       "      <th>230</th>\n",
       "      <td>2023-04-20 21:02:46</td>\n",
       "      <td>bXWBpeBLTQc</td>\n",
       "      <td>UC89AgkG34oooZubVt23wzFw</td>\n",
       "      <td>Jump 10 Feet With These Shoes! (World Record)</td>\n",
       "      <td>JLaservideo</td>\n",
       "      <td>321554</td>\n",
       "      <td>21670</td>\n",
       "      <td>1445</td>\n",
       "      <td>[Jlaservideo, DIY, how to, tutorial, mario, su...</td>\n",
       "      <td>17.016667</td>\n",
       "      <td>1</td>\n",
       "      <td>2023-04-21 23:00:10.446851</td>\n",
       "      <td>Film &amp; Animation</td>\n",
       "      <td>0.071885</td>\n",
       "    </tr>\n",
       "    <tr>\n",
       "      <th>231</th>\n",
       "      <td>2023-04-20 19:00:00</td>\n",
       "      <td>-JIpItvRfv4</td>\n",
       "      <td>UC9Kq-yEt1iYsbUzNOoIRK0g</td>\n",
       "      <td>The Super Mario Bros. Movie (2023) Pitch Meeting</td>\n",
       "      <td>Pitch Meeting</td>\n",
       "      <td>644860</td>\n",
       "      <td>51829</td>\n",
       "      <td>3056</td>\n",
       "      <td>[Super mario bros, movie, pitch meeting, mario...</td>\n",
       "      <td>5.983333</td>\n",
       "      <td>24</td>\n",
       "      <td>2023-04-21 23:00:10.446851</td>\n",
       "      <td>Entertainment</td>\n",
       "      <td>0.085111</td>\n",
       "    </tr>\n",
       "    <tr>\n",
       "      <th>232</th>\n",
       "      <td>2023-04-20 14:00:32</td>\n",
       "      <td>gUgZy0gQkMQ</td>\n",
       "      <td>UC2trYjcNvLq2KW9gIo9lUIA</td>\n",
       "      <td>I Upgraded Boring Minecraft Structures</td>\n",
       "      <td>tazoh</td>\n",
       "      <td>435982</td>\n",
       "      <td>12834</td>\n",
       "      <td>613</td>\n",
       "      <td>[minecraft hardcore, hardcore series, giant me...</td>\n",
       "      <td>26.283333</td>\n",
       "      <td>20</td>\n",
       "      <td>2023-04-21 23:00:10.446851</td>\n",
       "      <td>Gaming</td>\n",
       "      <td>0.030843</td>\n",
       "    </tr>\n",
       "    <tr>\n",
       "      <th>1909</th>\n",
       "      <td>2023-05-20 00:36:19</td>\n",
       "      <td>ru4P-Ere2cg</td>\n",
       "      <td>UCSy3TvvwAV12MD0rLsHyClQ</td>\n",
       "      <td>Roman Reigns Sounds Fed Up with The Bloodline ...</td>\n",
       "      <td>WWE on USA</td>\n",
       "      <td>515903</td>\n",
       "      <td>11585</td>\n",
       "      <td>1267</td>\n",
       "      <td>[WWE, WWE Smackdown, WWE Smackdown Highlights,...</td>\n",
       "      <td>9.533333</td>\n",
       "      <td>17</td>\n",
       "      <td>2023-05-20 13:30:23.293712</td>\n",
       "      <td>Sports</td>\n",
       "      <td>0.024912</td>\n",
       "    </tr>\n",
       "    <tr>\n",
       "      <th>1911</th>\n",
       "      <td>2023-05-20 00:00:01</td>\n",
       "      <td>66eW7CCFLOM</td>\n",
       "      <td>UCoPQ_TWm8JZ5nJv4a5BzSWA</td>\n",
       "      <td>AMERICA HAS A PROBLEM</td>\n",
       "      <td>Beyoncé - Topic</td>\n",
       "      <td>238969</td>\n",
       "      <td>24323</td>\n",
       "      <td>1462</td>\n",
       "      <td>[Beyoncé, ビヨンセ, 碧昂絲, Kendrick Lamar, AMERICA H...</td>\n",
       "      <td>4.350000</td>\n",
       "      <td>10</td>\n",
       "      <td>2023-05-20 13:30:23.293712</td>\n",
       "      <td>Music</td>\n",
       "      <td>0.107901</td>\n",
       "    </tr>\n",
       "    <tr>\n",
       "      <th>1917</th>\n",
       "      <td>2023-05-20 03:11:45</td>\n",
       "      <td>bVEcumg4RjA</td>\n",
       "      <td>UCWJ2lWNubArHWmf3FIHbfcQ</td>\n",
       "      <td>#8 HEAT at #2 CELTICS | FULL GAME 2 HIGHLIGHTS...</td>\n",
       "      <td>NBA</td>\n",
       "      <td>2437676</td>\n",
       "      <td>26492</td>\n",
       "      <td>4877</td>\n",
       "      <td>[Basketball, G League, NBA, game-0042200302]</td>\n",
       "      <td>9.633333</td>\n",
       "      <td>17</td>\n",
       "      <td>2023-05-20 13:30:23.293712</td>\n",
       "      <td>Sports</td>\n",
       "      <td>0.012868</td>\n",
       "    </tr>\n",
       "    <tr>\n",
       "      <th>1944</th>\n",
       "      <td>2023-05-20 14:00:01</td>\n",
       "      <td>R8LiwncUVnM</td>\n",
       "      <td>UCRijo3ddMTht_IHyNSNXpNQ</td>\n",
       "      <td>World's Highest Basketball Shot</td>\n",
       "      <td>Dude Perfect</td>\n",
       "      <td>1937234</td>\n",
       "      <td>160921</td>\n",
       "      <td>6967</td>\n",
       "      <td>[dude perfect, dude perfect stereotypes, dude ...</td>\n",
       "      <td>17.700000</td>\n",
       "      <td>17</td>\n",
       "      <td>2023-05-20 23:00:03.717024</td>\n",
       "      <td>Sports</td>\n",
       "      <td>0.086664</td>\n",
       "    </tr>\n",
       "    <tr>\n",
       "      <th>1945</th>\n",
       "      <td>2023-05-20 12:00:07</td>\n",
       "      <td>8zNmaDps0vg</td>\n",
       "      <td>UCIVSqoHCUN1XdEpiVItxfoQ</td>\n",
       "      <td>I Transformed Everything Massive in Minecraft ...</td>\n",
       "      <td>aCookieGod</td>\n",
       "      <td>1000386</td>\n",
       "      <td>37579</td>\n",
       "      <td>4497</td>\n",
       "      <td>[acookiegod, a cookie god, a cookie god minecr...</td>\n",
       "      <td>28.783333</td>\n",
       "      <td>20</td>\n",
       "      <td>2023-05-20 23:00:03.717024</td>\n",
       "      <td>Gaming</td>\n",
       "      <td>0.042060</td>\n",
       "    </tr>\n",
       "    <tr>\n",
       "      <th>1946</th>\n",
       "      <td>2023-05-20 14:36:22</td>\n",
       "      <td>moJx1BWxpD0</td>\n",
       "      <td>UC495kynFX55dE0iorwV3RKQ</td>\n",
       "      <td>Surviving in an Indestructible Rescue Tank!</td>\n",
       "      <td>Dangie Bros</td>\n",
       "      <td>548843</td>\n",
       "      <td>15237</td>\n",
       "      <td>636</td>\n",
       "      <td>[survival, all terrain, offroad, overnight, re...</td>\n",
       "      <td>12.116667</td>\n",
       "      <td>24</td>\n",
       "      <td>2023-05-20 23:00:03.717024</td>\n",
       "      <td>Entertainment</td>\n",
       "      <td>0.028921</td>\n",
       "    </tr>\n",
       "    <tr>\n",
       "      <th>1948</th>\n",
       "      <td>2023-05-20 14:30:16</td>\n",
       "      <td>bShEDrieGDU</td>\n",
       "      <td>UCAM2fyCjEdROyELretVTiiw</td>\n",
       "      <td>I Bought DISCONTINUED Products from Our Childhood</td>\n",
       "      <td>HopeScope</td>\n",
       "      <td>760625</td>\n",
       "      <td>37416</td>\n",
       "      <td>3450</td>\n",
       "      <td>[funny, relatable, fail, tik tok, amazon produ...</td>\n",
       "      <td>17.683333</td>\n",
       "      <td>26</td>\n",
       "      <td>2023-05-20 23:00:03.717024</td>\n",
       "      <td>Howto &amp; Style</td>\n",
       "      <td>0.053727</td>\n",
       "    </tr>\n",
       "    <tr>\n",
       "      <th>1949</th>\n",
       "      <td>2023-05-20 15:00:56</td>\n",
       "      <td>E53XFekxMK0</td>\n",
       "      <td>UCt9nYeSz90lnOnaVFjxFJzw</td>\n",
       "      <td>Mega City HIDE AND SEEK in Fortnite!</td>\n",
       "      <td>Nick Eh 30</td>\n",
       "      <td>318124</td>\n",
       "      <td>9310</td>\n",
       "      <td>504</td>\n",
       "      <td>[fortnite, fortnite gameplay, fortnite battle ...</td>\n",
       "      <td>31.583333</td>\n",
       "      <td>20</td>\n",
       "      <td>2023-05-20 23:00:03.717024</td>\n",
       "      <td>Gaming</td>\n",
       "      <td>0.030850</td>\n",
       "    </tr>\n",
       "    <tr>\n",
       "      <th>1951</th>\n",
       "      <td>2023-05-20 14:00:30</td>\n",
       "      <td>jrMelqE4Svw</td>\n",
       "      <td>UC4NKi3-86NdHPiVz5QqDN9g</td>\n",
       "      <td>I Survived 100 Days as an ELEMENTAL HYDRA in H...</td>\n",
       "      <td>Fozo</td>\n",
       "      <td>293044</td>\n",
       "      <td>5775</td>\n",
       "      <td>119</td>\n",
       "      <td>[Minecraft, Minecraft 100 Days, 100 Days In Mi...</td>\n",
       "      <td>40.950000</td>\n",
       "      <td>20</td>\n",
       "      <td>2023-05-20 23:00:03.717024</td>\n",
       "      <td>Gaming</td>\n",
       "      <td>0.020113</td>\n",
       "    </tr>\n",
       "    <tr>\n",
       "      <th>1952</th>\n",
       "      <td>2023-05-20 15:43:23</td>\n",
       "      <td>iqhzW-sGr58</td>\n",
       "      <td>UCRlEFn0L2G_DktbyvN0AZ5A</td>\n",
       "      <td>Minecraft, But I Can NEVER Leave This Circle (#8)</td>\n",
       "      <td>WadZee</td>\n",
       "      <td>303034</td>\n",
       "      <td>37408</td>\n",
       "      <td>3684</td>\n",
       "      <td>[minecraft, wadzee, hardcore, wadzee hardcore,...</td>\n",
       "      <td>14.900000</td>\n",
       "      <td>20</td>\n",
       "      <td>2023-05-20 23:00:03.717024</td>\n",
       "      <td>Gaming</td>\n",
       "      <td>0.135602</td>\n",
       "    </tr>\n",
       "    <tr>\n",
       "      <th>1959</th>\n",
       "      <td>2023-05-20 14:00:00</td>\n",
       "      <td>-u4ZDLTHg-I</td>\n",
       "      <td>UCrXzMVbjcaVvVtihxNpBvMQ</td>\n",
       "      <td>We ate Over 500 Bowls of Noodles (50,000 Calor...</td>\n",
       "      <td>The Boys</td>\n",
       "      <td>452500</td>\n",
       "      <td>28754</td>\n",
       "      <td>1734</td>\n",
       "      <td>[VR, Virtual Reality, The Boys, JoshDub, Mully...</td>\n",
       "      <td>23.183333</td>\n",
       "      <td>20</td>\n",
       "      <td>2023-05-20 23:00:03.717024</td>\n",
       "      <td>Gaming</td>\n",
       "      <td>0.067377</td>\n",
       "    </tr>\n",
       "    <tr>\n",
       "      <th>1967</th>\n",
       "      <td>2023-05-20 02:00:28</td>\n",
       "      <td>kNzi0y_EVa4</td>\n",
       "      <td>UC-g_O9HWb5B0rVDG1hLd5Hw</td>\n",
       "      <td>Busting Scary Minecraft Seeds To Prove Them Wrong</td>\n",
       "      <td>Eystreem</td>\n",
       "      <td>1139117</td>\n",
       "      <td>30849</td>\n",
       "      <td>6706</td>\n",
       "      <td>[Eystreem, eyestream, eystream, minecraft, fam...</td>\n",
       "      <td>16.183333</td>\n",
       "      <td>20</td>\n",
       "      <td>2023-05-20 23:00:03.717024</td>\n",
       "      <td>Gaming</td>\n",
       "      <td>0.032969</td>\n",
       "    </tr>\n",
       "    <tr>\n",
       "      <th>1968</th>\n",
       "      <td>2023-05-20 14:00:09</td>\n",
       "      <td>aBN7_DBa2VQ</td>\n",
       "      <td>UCKaCalz5N5ienIbfPzEbYuA</td>\n",
       "      <td>Instagram Controls My Daughter's Lie Detector ...</td>\n",
       "      <td>Jordan Matter</td>\n",
       "      <td>2254886</td>\n",
       "      <td>72705</td>\n",
       "      <td>8988</td>\n",
       "      <td>[jordan matter, challenge]</td>\n",
       "      <td>13.883333</td>\n",
       "      <td>24</td>\n",
       "      <td>2023-05-20 23:00:03.717024</td>\n",
       "      <td>Entertainment</td>\n",
       "      <td>0.036229</td>\n",
       "    </tr>\n",
       "    <tr>\n",
       "      <th>1970</th>\n",
       "      <td>2023-05-20 02:06:10</td>\n",
       "      <td>GspqBg49K7o</td>\n",
       "      <td>UCc6BTuuTzfMLKj_RgwuDnQw</td>\n",
       "      <td>We Made A Mountain Dew Grilled Cheese Sandwich</td>\n",
       "      <td>Tyler Williams</td>\n",
       "      <td>232346</td>\n",
       "      <td>13757</td>\n",
       "      <td>551</td>\n",
       "      <td>[Mountain dew grilled cheese, mountain dew, so...</td>\n",
       "      <td>14.850000</td>\n",
       "      <td>22</td>\n",
       "      <td>2023-05-20 23:00:03.717024</td>\n",
       "      <td>People &amp; Blogs</td>\n",
       "      <td>0.061581</td>\n",
       "    </tr>\n",
       "    <tr>\n",
       "      <th>1971</th>\n",
       "      <td>2023-05-20 16:00:11</td>\n",
       "      <td>J8wNgywxtAw</td>\n",
       "      <td>UC0sEIyXXalzD1lbwm3D2xpA</td>\n",
       "      <td>The Pit Stop AS8 E03 🏁 Bianca Del Rio &amp; Sugar ...</td>\n",
       "      <td>RuPaul's Drag Race</td>\n",
       "      <td>454907</td>\n",
       "      <td>23021</td>\n",
       "      <td>2681</td>\n",
       "      <td>[vh1, rupaul, rupaul's drag race, drag race, t...</td>\n",
       "      <td>33.816667</td>\n",
       "      <td>24</td>\n",
       "      <td>2023-05-20 23:00:03.717024</td>\n",
       "      <td>Entertainment</td>\n",
       "      <td>0.056499</td>\n",
       "    </tr>\n",
       "    <tr>\n",
       "      <th>1989</th>\n",
       "      <td>2023-05-20 21:47:03</td>\n",
       "      <td>owKh8UllUr8</td>\n",
       "      <td>UC2hm5rD_IrfYRMfq5YQudgA</td>\n",
       "      <td>Getting Recognized (In the Wild)</td>\n",
       "      <td>Haminations</td>\n",
       "      <td>1744575</td>\n",
       "      <td>101081</td>\n",
       "      <td>15673</td>\n",
       "      <td>[Haminations]</td>\n",
       "      <td>12.383333</td>\n",
       "      <td>23</td>\n",
       "      <td>2023-05-21 13:10:16.705150</td>\n",
       "      <td>Comedy</td>\n",
       "      <td>0.066924</td>\n",
       "    </tr>\n",
       "    <tr>\n",
       "      <th>1995</th>\n",
       "      <td>2023-05-20 12:30:03</td>\n",
       "      <td>8gesW5k2kLU</td>\n",
       "      <td>UCHRTfR2r0Ss3UjFyw7gSA-A</td>\n",
       "      <td>I Survived 100 Days as an ALLIGATOR in Minecraft</td>\n",
       "      <td>Ryguyrocky</td>\n",
       "      <td>599940</td>\n",
       "      <td>13004</td>\n",
       "      <td>1291</td>\n",
       "      <td>[Minecraft, minecraft roleplay, ryguyrocky, I ...</td>\n",
       "      <td>49.216667</td>\n",
       "      <td>20</td>\n",
       "      <td>2023-05-21 13:10:16.705150</td>\n",
       "      <td>Gaming</td>\n",
       "      <td>0.023827</td>\n",
       "    </tr>\n",
       "    <tr>\n",
       "      <th>1997</th>\n",
       "      <td>2023-05-20 15:03:05</td>\n",
       "      <td>qGTjtU4kfkM</td>\n",
       "      <td>UCXMwCQVey4PhdWFJ6WhAVhA</td>\n",
       "      <td>favorite video game</td>\n",
       "      <td>SockStudios</td>\n",
       "      <td>468731</td>\n",
       "      <td>20034</td>\n",
       "      <td>2238</td>\n",
       "      <td>[my favourite game, favorite game, im losing m...</td>\n",
       "      <td>11.866667</td>\n",
       "      <td>23</td>\n",
       "      <td>2023-05-21 13:10:16.705150</td>\n",
       "      <td>Comedy</td>\n",
       "      <td>0.047516</td>\n",
       "    </tr>\n",
       "    <tr>\n",
       "      <th>2005</th>\n",
       "      <td>2023-05-20 19:26:55</td>\n",
       "      <td>xGTdbgD7ll0</td>\n",
       "      <td>UCTRLonrXTJ4nqoKmdGti3xQ</td>\n",
       "      <td>What if Tanjiro Fought The Hashira?</td>\n",
       "      <td>IMOTO</td>\n",
       "      <td>308845</td>\n",
       "      <td>5609</td>\n",
       "      <td>582</td>\n",
       "      <td>[Tanjiro vs Every Hashira, What if Tanjiro had...</td>\n",
       "      <td>11.783333</td>\n",
       "      <td>24</td>\n",
       "      <td>2023-05-21 13:10:16.705150</td>\n",
       "      <td>Entertainment</td>\n",
       "      <td>0.020046</td>\n",
       "    </tr>\n",
       "    <tr>\n",
       "      <th>2006</th>\n",
       "      <td>2023-05-20 17:14:15</td>\n",
       "      <td>oAx-YpG9PHk</td>\n",
       "      <td>UCupWnlhB3PMW1w0CLfLCfug</td>\n",
       "      <td>My Worst Injury</td>\n",
       "      <td>Infamous Swoosh</td>\n",
       "      <td>222131</td>\n",
       "      <td>11063</td>\n",
       "      <td>1297</td>\n",
       "      <td>[infamous swoosh, animations, haminations, the...</td>\n",
       "      <td>10.650000</td>\n",
       "      <td>1</td>\n",
       "      <td>2023-05-21 13:10:16.705150</td>\n",
       "      <td>Film &amp; Animation</td>\n",
       "      <td>0.055643</td>\n",
       "    </tr>\n",
       "    <tr>\n",
       "      <th>2007</th>\n",
       "      <td>2023-05-20 19:14:59</td>\n",
       "      <td>dPviTjzvG4o</td>\n",
       "      <td>UC6UL29enLNe4mqwTfAyeNuw</td>\n",
       "      <td>UNBELIEVABLE!!! RB Tears Bayern Down! | Bayern...</td>\n",
       "      <td>Bundesliga</td>\n",
       "      <td>1260545</td>\n",
       "      <td>21092</td>\n",
       "      <td>1343</td>\n",
       "      <td>[#FCBRBL, All Goals, Bayern, Bayern Munich, Bu...</td>\n",
       "      <td>1.183333</td>\n",
       "      <td>17</td>\n",
       "      <td>2023-05-21 13:10:16.705150</td>\n",
       "      <td>Sports</td>\n",
       "      <td>0.017798</td>\n",
       "    </tr>\n",
       "    <tr>\n",
       "      <th>2008</th>\n",
       "      <td>2023-05-20 14:01:37</td>\n",
       "      <td>LZanXTAeqGc</td>\n",
       "      <td>UCGGZ_POGmIWG1pQXTDzQv-g</td>\n",
       "      <td>I Trained Like An Olympic Boxer</td>\n",
       "      <td>Michelle Khare</td>\n",
       "      <td>353425</td>\n",
       "      <td>35188</td>\n",
       "      <td>2787</td>\n",
       "      <td>[boxing, tony jeffries, youtube boxing, idubbb...</td>\n",
       "      <td>47.183333</td>\n",
       "      <td>24</td>\n",
       "      <td>2023-05-21 13:10:16.705150</td>\n",
       "      <td>Entertainment</td>\n",
       "      <td>0.107449</td>\n",
       "    </tr>\n",
       "    <tr>\n",
       "      <th>2009</th>\n",
       "      <td>2023-05-20 21:00:09</td>\n",
       "      <td>6m26tO-OAdo</td>\n",
       "      <td>UCLCdyRg3u5O-EVP5p46QxcQ</td>\n",
       "      <td>Pied Piper - CG5 (Amanda the Adventurer Song)</td>\n",
       "      <td>CG5</td>\n",
       "      <td>185298</td>\n",
       "      <td>21818</td>\n",
       "      <td>2145</td>\n",
       "      <td>[cg5, cg5 song, amanda the adventurer cg5, cg5...</td>\n",
       "      <td>3.350000</td>\n",
       "      <td>10</td>\n",
       "      <td>2023-05-21 13:10:16.705150</td>\n",
       "      <td>Music</td>\n",
       "      <td>0.129321</td>\n",
       "    </tr>\n",
       "    <tr>\n",
       "      <th>2011</th>\n",
       "      <td>2023-05-20 15:40:02</td>\n",
       "      <td>-1UhCnd6ktA</td>\n",
       "      <td>UC-l69It3hxAY3tkBH_utLNQ</td>\n",
       "      <td>TYING EVERYTHING TOGETHER | Framing Our Tiny C...</td>\n",
       "      <td>Life Uncontained</td>\n",
       "      <td>222916</td>\n",
       "      <td>24751</td>\n",
       "      <td>1398</td>\n",
       "      <td>[cabin, shipping container cabin, tiny cabin, ...</td>\n",
       "      <td>16.133333</td>\n",
       "      <td>22</td>\n",
       "      <td>2023-05-21 13:10:16.705150</td>\n",
       "      <td>People &amp; Blogs</td>\n",
       "      <td>0.117304</td>\n",
       "    </tr>\n",
       "    <tr>\n",
       "      <th>2064</th>\n",
       "      <td>2023-05-20 13:00:25</td>\n",
       "      <td>_D5I4pIbIoA</td>\n",
       "      <td>UCvjsnl6wNtVIm0i1sCpN9Uw</td>\n",
       "      <td>Jaiden And I Did A 2 Player Hardcore Nuzlocke</td>\n",
       "      <td>Pokémon Challenges</td>\n",
       "      <td>524703</td>\n",
       "      <td>31851</td>\n",
       "      <td>1374</td>\n",
       "      <td>[twitch, games, pokemon, gaming, pokemon chall...</td>\n",
       "      <td>35.683333</td>\n",
       "      <td>20</td>\n",
       "      <td>2023-05-21 23:36:20.860660</td>\n",
       "      <td>Gaming</td>\n",
       "      <td>0.063322</td>\n",
       "    </tr>\n",
       "    <tr>\n",
       "      <th>2974</th>\n",
       "      <td>2023-06-20 00:31:41</td>\n",
       "      <td>ZSnGqzaTNlc</td>\n",
       "      <td>UCJbYdyufHR-cxOuY96KIoqA</td>\n",
       "      <td>AMP MMA BASKETBALL</td>\n",
       "      <td>AMP</td>\n",
       "      <td>1581578</td>\n",
       "      <td>82311</td>\n",
       "      <td>6971</td>\n",
       "      <td>[AMP MMA BASKETBALL, AMP UFC BASKETBALL, AMP U...</td>\n",
       "      <td>37.650000</td>\n",
       "      <td>24</td>\n",
       "      <td>2023-06-20 13:32:09.146638</td>\n",
       "      <td>Entertainment</td>\n",
       "      <td>0.056451</td>\n",
       "    </tr>\n",
       "    <tr>\n",
       "      <th>2978</th>\n",
       "      <td>2023-06-20 06:15:09</td>\n",
       "      <td>HZAyjBMTiaM</td>\n",
       "      <td>UCKQKIY2YlI4L5QVg7hhfjrQ</td>\n",
       "      <td>Rocky Aur Rani Kii Prem Kahaani - OFFICIAL TEA...</td>\n",
       "      <td>Dharma Productions</td>\n",
       "      <td>11252618</td>\n",
       "      <td>105339</td>\n",
       "      <td>11553</td>\n",
       "      <td>[Karan Johar, New movie, Drama film, Romance, ...</td>\n",
       "      <td>1.333333</td>\n",
       "      <td>1</td>\n",
       "      <td>2023-06-20 13:32:09.146638</td>\n",
       "      <td>Film &amp; Animation</td>\n",
       "      <td>0.010388</td>\n",
       "    </tr>\n",
       "    <tr>\n",
       "      <th>2983</th>\n",
       "      <td>2023-06-20 12:18:03</td>\n",
       "      <td>ZiyW3jCuHAo</td>\n",
       "      <td>UCi7Zk9baY1tvdlgxIML8MXg</td>\n",
       "      <td>TITANIC SUBMARINE SEARCH | Latest news and upd...</td>\n",
       "      <td>CTV News</td>\n",
       "      <td>276692</td>\n",
       "      <td>3063</td>\n",
       "      <td>1400</td>\n",
       "      <td>[CTV, News, CTV News, Missing submarine, subma...</td>\n",
       "      <td>5.983333</td>\n",
       "      <td>25</td>\n",
       "      <td>2023-06-20 13:32:09.146638</td>\n",
       "      <td>News &amp; Politics</td>\n",
       "      <td>0.016130</td>\n",
       "    </tr>\n",
       "    <tr>\n",
       "      <th>3093</th>\n",
       "      <td>2023-06-20 16:00:23</td>\n",
       "      <td>DwsZggwPRKc</td>\n",
       "      <td>UCY30JRSgfhYXA6i6xX1erWg</td>\n",
       "      <td>WE BOUGHT SMOSH!</td>\n",
       "      <td>Smosh</td>\n",
       "      <td>963294</td>\n",
       "      <td>289936</td>\n",
       "      <td>29612</td>\n",
       "      <td>[smosh, smosh games, smosh pit, ian and anthon...</td>\n",
       "      <td>4.083333</td>\n",
       "      <td>23</td>\n",
       "      <td>2023-06-20 14:50:36.142143</td>\n",
       "      <td>Comedy</td>\n",
       "      <td>0.331724</td>\n",
       "    </tr>\n",
       "    <tr>\n",
       "      <th>3105</th>\n",
       "      <td>2023-06-20 12:52:00</td>\n",
       "      <td>OV4PPfjYKe0</td>\n",
       "      <td>UCYVinkwSX7szARULgYpvhLw</td>\n",
       "      <td>Fortnite's *NEW* MYTHIC Update!</td>\n",
       "      <td>Ali-A</td>\n",
       "      <td>312824</td>\n",
       "      <td>7956</td>\n",
       "      <td>523</td>\n",
       "      <td>[fortnite, ali a, alia]</td>\n",
       "      <td>11.533333</td>\n",
       "      <td>20</td>\n",
       "      <td>2023-06-20 14:50:36.142143</td>\n",
       "      <td>Gaming</td>\n",
       "      <td>0.027105</td>\n",
       "    </tr>\n",
       "    <tr>\n",
       "      <th>3111</th>\n",
       "      <td>2023-06-20 15:00:05</td>\n",
       "      <td>w9bDxez7YgE</td>\n",
       "      <td>UCx9hXYOCvUYwrprEqe4ZQHA</td>\n",
       "      <td>TREASURE (T5) - 'MOVE' DANCE PRACTICE VIDEO</td>\n",
       "      <td>TREASURE (트레저)</td>\n",
       "      <td>1213570</td>\n",
       "      <td>215953</td>\n",
       "      <td>32244</td>\n",
       "      <td>[YG Entertainment, YG, 와이지, K-pop, 트레져, 트레저, T...</td>\n",
       "      <td>3.683333</td>\n",
       "      <td>24</td>\n",
       "      <td>2023-06-20 14:50:36.142143</td>\n",
       "      <td>Entertainment</td>\n",
       "      <td>0.204518</td>\n",
       "    </tr>\n",
       "  </tbody>\n",
       "</table>\n",
       "</div>"
      ],
      "text/plain": [
       "            published_at     video_id                channel_id  \\\n",
       "76   2023-04-20 14:08:39  -1wcilQ58hI  UCtI0Hodo5o5dUb67FeUjDeA   \n",
       "78   2023-04-20 15:26:39  E7WG8bnKvuw  UC0sEIyXXalzD1lbwm3D2xpA   \n",
       "79   2023-04-20 15:02:54  I0jEuZxo87M  UCnmGIkw-KdI0W5siakKPKog   \n",
       "80   2023-04-20 15:00:04  eplNpIVrvEo  UC0ZV6M2THA81QT9hrVWJG3A   \n",
       "81   2023-04-20 05:11:16  7DiMiuZl34Y  UC9-OpMMVoNP5o10_Iyq7Ndw   \n",
       "95   2023-04-20 03:32:58  t1v050SqcD8  UCE6acMV3m35znLcf0JGNn7Q   \n",
       "156  2023-04-20 22:00:08  3vO4E7SB2OU  UCP8rCSNr4WqZBgT3OmqhDHg   \n",
       "157  2023-04-20 21:46:28  xrOj7vOxrkw  UCEVVENPnHv-kcp2PqQuJvHg   \n",
       "158  2023-04-20 22:03:37  dRlNkXC4AZw  UCf8YPuOWXlpTS7RibaJlP4g   \n",
       "159  2023-04-20 21:38:47  XotL1fX07pg  UCYBetkejPxK8t_41zueazcA   \n",
       "162  2023-04-20 22:20:09  W9If4-IhzM0  UCzrM_068Odho89mTRrrxqbA   \n",
       "163  2023-04-20 20:34:13  k_DIGRR3vkg  UCAVojJ1k03GZzjSbdXXunkw   \n",
       "167  2023-04-20 17:00:11  zBukbgTN0cE  UCul9agDzTZxruNd9wEUWL7w   \n",
       "207  2023-04-20 19:30:02  OuJ4Uisp0Bo  UCsvn_Po0SmunchJYOWpOxMg   \n",
       "219  2023-04-20 22:29:34  5Bg8PAgItxo  UCkRP0nS2qERsw-U-OTLbI0A   \n",
       "222  2023-04-20 22:02:23  -BwUyTrU9fo  UCBJycsmduvYEL83R_U4JriQ   \n",
       "227  2023-04-20 18:00:09  xnJ1NxRT97A  UCmlkznD61Olu82oYGFr8gxg   \n",
       "230  2023-04-20 21:02:46  bXWBpeBLTQc  UC89AgkG34oooZubVt23wzFw   \n",
       "231  2023-04-20 19:00:00  -JIpItvRfv4  UC9Kq-yEt1iYsbUzNOoIRK0g   \n",
       "232  2023-04-20 14:00:32  gUgZy0gQkMQ  UC2trYjcNvLq2KW9gIo9lUIA   \n",
       "1909 2023-05-20 00:36:19  ru4P-Ere2cg  UCSy3TvvwAV12MD0rLsHyClQ   \n",
       "1911 2023-05-20 00:00:01  66eW7CCFLOM  UCoPQ_TWm8JZ5nJv4a5BzSWA   \n",
       "1917 2023-05-20 03:11:45  bVEcumg4RjA  UCWJ2lWNubArHWmf3FIHbfcQ   \n",
       "1944 2023-05-20 14:00:01  R8LiwncUVnM  UCRijo3ddMTht_IHyNSNXpNQ   \n",
       "1945 2023-05-20 12:00:07  8zNmaDps0vg  UCIVSqoHCUN1XdEpiVItxfoQ   \n",
       "1946 2023-05-20 14:36:22  moJx1BWxpD0  UC495kynFX55dE0iorwV3RKQ   \n",
       "1948 2023-05-20 14:30:16  bShEDrieGDU  UCAM2fyCjEdROyELretVTiiw   \n",
       "1949 2023-05-20 15:00:56  E53XFekxMK0  UCt9nYeSz90lnOnaVFjxFJzw   \n",
       "1951 2023-05-20 14:00:30  jrMelqE4Svw  UC4NKi3-86NdHPiVz5QqDN9g   \n",
       "1952 2023-05-20 15:43:23  iqhzW-sGr58  UCRlEFn0L2G_DktbyvN0AZ5A   \n",
       "1959 2023-05-20 14:00:00  -u4ZDLTHg-I  UCrXzMVbjcaVvVtihxNpBvMQ   \n",
       "1967 2023-05-20 02:00:28  kNzi0y_EVa4  UC-g_O9HWb5B0rVDG1hLd5Hw   \n",
       "1968 2023-05-20 14:00:09  aBN7_DBa2VQ  UCKaCalz5N5ienIbfPzEbYuA   \n",
       "1970 2023-05-20 02:06:10  GspqBg49K7o  UCc6BTuuTzfMLKj_RgwuDnQw   \n",
       "1971 2023-05-20 16:00:11  J8wNgywxtAw  UC0sEIyXXalzD1lbwm3D2xpA   \n",
       "1989 2023-05-20 21:47:03  owKh8UllUr8  UC2hm5rD_IrfYRMfq5YQudgA   \n",
       "1995 2023-05-20 12:30:03  8gesW5k2kLU  UCHRTfR2r0Ss3UjFyw7gSA-A   \n",
       "1997 2023-05-20 15:03:05  qGTjtU4kfkM  UCXMwCQVey4PhdWFJ6WhAVhA   \n",
       "2005 2023-05-20 19:26:55  xGTdbgD7ll0  UCTRLonrXTJ4nqoKmdGti3xQ   \n",
       "2006 2023-05-20 17:14:15  oAx-YpG9PHk  UCupWnlhB3PMW1w0CLfLCfug   \n",
       "2007 2023-05-20 19:14:59  dPviTjzvG4o  UC6UL29enLNe4mqwTfAyeNuw   \n",
       "2008 2023-05-20 14:01:37  LZanXTAeqGc  UCGGZ_POGmIWG1pQXTDzQv-g   \n",
       "2009 2023-05-20 21:00:09  6m26tO-OAdo  UCLCdyRg3u5O-EVP5p46QxcQ   \n",
       "2011 2023-05-20 15:40:02  -1UhCnd6ktA  UC-l69It3hxAY3tkBH_utLNQ   \n",
       "2064 2023-05-20 13:00:25  _D5I4pIbIoA  UCvjsnl6wNtVIm0i1sCpN9Uw   \n",
       "2974 2023-06-20 00:31:41  ZSnGqzaTNlc  UCJbYdyufHR-cxOuY96KIoqA   \n",
       "2978 2023-06-20 06:15:09  HZAyjBMTiaM  UCKQKIY2YlI4L5QVg7hhfjrQ   \n",
       "2983 2023-06-20 12:18:03  ZiyW3jCuHAo  UCi7Zk9baY1tvdlgxIML8MXg   \n",
       "3093 2023-06-20 16:00:23  DwsZggwPRKc  UCY30JRSgfhYXA6i6xX1erWg   \n",
       "3105 2023-06-20 12:52:00  OV4PPfjYKe0  UCYVinkwSX7szARULgYpvhLw   \n",
       "3111 2023-06-20 15:00:05  w9bDxez7YgE  UCx9hXYOCvUYwrprEqe4ZQHA   \n",
       "\n",
       "                                                  title  \\\n",
       "76                                 Starship Flight Test   \n",
       "78    Meet the Queens of All Stars 8! 🌟 | QUEEN RUVE...   \n",
       "79                Overnight in the World's Oldest Hotel   \n",
       "80                 Apex Legends Veiled Collection Event   \n",
       "81    Chuck Reacts to Dillon Brooks Calling LeBron \"...   \n",
       "95    I Asked 7 YouTubers for ASMR Ideas... I went t...   \n",
       "156          Wisin, Anuel AA - MI EXXX (Official Video)   \n",
       "157   HEATED!! Gervonta Davis vs. Ryan Garcia • FULL...   \n",
       "158   Roma vs. Feyenoord: Extended Highlights | UEL ...   \n",
       "159              24 Youtuber EASTER EGGS In Video Games   \n",
       "162   Peso Pluma, Jasiel Nuñez - Rosa Pastel (Offici...   \n",
       "163                            Well... This Took A Turn   \n",
       "167       Kali Uchis - Moonlight (Official Music Video)   \n",
       "207              The Super Mario Bros. Movie (dunkview)   \n",
       "219            20-year-old killed by rock thrown at car   \n",
       "222   I Spent $40,000 to Unbox a Sealed Original iPh...   \n",
       "227           GloRilla - Unh Unh (Official Music Video)   \n",
       "230       Jump 10 Feet With These Shoes! (World Record)   \n",
       "231    The Super Mario Bros. Movie (2023) Pitch Meeting   \n",
       "232              I Upgraded Boring Minecraft Structures   \n",
       "1909  Roman Reigns Sounds Fed Up with The Bloodline ...   \n",
       "1911                              AMERICA HAS A PROBLEM   \n",
       "1917  #8 HEAT at #2 CELTICS | FULL GAME 2 HIGHLIGHTS...   \n",
       "1944                    World's Highest Basketball Shot   \n",
       "1945  I Transformed Everything Massive in Minecraft ...   \n",
       "1946        Surviving in an Indestructible Rescue Tank!   \n",
       "1948  I Bought DISCONTINUED Products from Our Childhood   \n",
       "1949               Mega City HIDE AND SEEK in Fortnite!   \n",
       "1951  I Survived 100 Days as an ELEMENTAL HYDRA in H...   \n",
       "1952  Minecraft, But I Can NEVER Leave This Circle (#8)   \n",
       "1959  We ate Over 500 Bowls of Noodles (50,000 Calor...   \n",
       "1967  Busting Scary Minecraft Seeds To Prove Them Wrong   \n",
       "1968  Instagram Controls My Daughter's Lie Detector ...   \n",
       "1970     We Made A Mountain Dew Grilled Cheese Sandwich   \n",
       "1971  The Pit Stop AS8 E03 🏁 Bianca Del Rio & Sugar ...   \n",
       "1989                   Getting Recognized (In the Wild)   \n",
       "1995   I Survived 100 Days as an ALLIGATOR in Minecraft   \n",
       "1997                                favorite video game   \n",
       "2005                What if Tanjiro Fought The Hashira?   \n",
       "2006                                    My Worst Injury   \n",
       "2007  UNBELIEVABLE!!! RB Tears Bayern Down! | Bayern...   \n",
       "2008                    I Trained Like An Olympic Boxer   \n",
       "2009      Pied Piper - CG5 (Amanda the Adventurer Song)   \n",
       "2011  TYING EVERYTHING TOGETHER | Framing Our Tiny C...   \n",
       "2064      Jaiden And I Did A 2 Player Hardcore Nuzlocke   \n",
       "2974                                 AMP MMA BASKETBALL   \n",
       "2978  Rocky Aur Rani Kii Prem Kahaani - OFFICIAL TEA...   \n",
       "2983  TITANIC SUBMARINE SEARCH | Latest news and upd...   \n",
       "3093                                   WE BOUGHT SMOSH!   \n",
       "3105                    Fortnite's *NEW* MYTHIC Update!   \n",
       "3111        TREASURE (T5) - 'MOVE' DANCE PRACTICE VIDEO   \n",
       "\n",
       "                   channel_title  view_count  like_count  comment_count  \\\n",
       "76                        SpaceX     9242696      237806          11465   \n",
       "78            RuPaul's Drag Race      754412       33294           3990   \n",
       "79                   Ryan Trahan     1312885       82331           3656   \n",
       "80                  Apex Legends      505534       20362           1420   \n",
       "81               Bleacher Report      745073        6428           2621   \n",
       "95                     Gibi ASMR      445027       34827           2584   \n",
       "156                        Wisin     2145883      176578           8775   \n",
       "157                  Seconds Out      699939       10860           4683   \n",
       "158   CBS Sports Golazo - Europe      235218        2841            306   \n",
       "159                          T5G     1144150       26260            596   \n",
       "162                   Peso Pluma     1518418      105352           4192   \n",
       "163                       Shane2      415486       32689           4335   \n",
       "167                KaliUchisVEVO      603973       73106           3062   \n",
       "207              videogamedunkey     1760189       97107           3654   \n",
       "219                 FOX31 Denver      516279        7574           3820   \n",
       "222             Marques Brownlee     2075297      141947           7260   \n",
       "227                 GloRillaVEVO      338831       11998            897   \n",
       "230                  JLaservideo      321554       21670           1445   \n",
       "231                Pitch Meeting      644860       51829           3056   \n",
       "232                        tazoh      435982       12834            613   \n",
       "1909                  WWE on USA      515903       11585           1267   \n",
       "1911             Beyoncé - Topic      238969       24323           1462   \n",
       "1917                         NBA     2437676       26492           4877   \n",
       "1944                Dude Perfect     1937234      160921           6967   \n",
       "1945                  aCookieGod     1000386       37579           4497   \n",
       "1946                 Dangie Bros      548843       15237            636   \n",
       "1948                   HopeScope      760625       37416           3450   \n",
       "1949                  Nick Eh 30      318124        9310            504   \n",
       "1951                        Fozo      293044        5775            119   \n",
       "1952                      WadZee      303034       37408           3684   \n",
       "1959                    The Boys      452500       28754           1734   \n",
       "1967                    Eystreem     1139117       30849           6706   \n",
       "1968               Jordan Matter     2254886       72705           8988   \n",
       "1970              Tyler Williams      232346       13757            551   \n",
       "1971          RuPaul's Drag Race      454907       23021           2681   \n",
       "1989                 Haminations     1744575      101081          15673   \n",
       "1995                  Ryguyrocky      599940       13004           1291   \n",
       "1997                 SockStudios      468731       20034           2238   \n",
       "2005                       IMOTO      308845        5609            582   \n",
       "2006             Infamous Swoosh      222131       11063           1297   \n",
       "2007                  Bundesliga     1260545       21092           1343   \n",
       "2008              Michelle Khare      353425       35188           2787   \n",
       "2009                         CG5      185298       21818           2145   \n",
       "2011            Life Uncontained      222916       24751           1398   \n",
       "2064          Pokémon Challenges      524703       31851           1374   \n",
       "2974                         AMP     1581578       82311           6971   \n",
       "2978          Dharma Productions    11252618      105339          11553   \n",
       "2983                    CTV News      276692        3063           1400   \n",
       "3093                       Smosh      963294      289936          29612   \n",
       "3105                       Ali-A      312824        7956            523   \n",
       "3111              TREASURE (트레저)     1213570      215953          32244   \n",
       "\n",
       "                                                   tags   duration  \\\n",
       "76    [SpaceX, Space, Starship, Super Heavy, Mars, S...  53.350000   \n",
       "78         [vh1, rupaul, rupaul's drag race, drag race]  21.716667   \n",
       "79    [Ryan, Trahan, worlds oldest hotel, worlds old...  11.350000   \n",
       "80    [apex legends, apex, veiled collection event a...   1.650000   \n",
       "81    [bleacher report, br, nba, dillon brooks, dill...   2.100000   \n",
       "95    [gibi, asmr, gibi asmr, requests, i asked yout...  51.366667   \n",
       "156   [wisin, anuel, wisin anuel aa, anuel aa, mi ex...   3.716667   \n",
       "157   [boxing, secondsout, seconds out, combat, spor...  31.433333   \n",
       "158               [Feyenoord, Roma, Roma vs. Feyenoord]  15.300000   \n",
       "159   [video games, 24 Youtuber EASTER EGGS In Video...   9.266667   \n",
       "162   [peso pluma, jasiel nuñez, rosa pastel, corrid...   3.483333   \n",
       "163   [Shane, Dawson, conspiracy, theories, journali...  32.883333   \n",
       "167       [Kali, Uchis, Moonlight, Interscope, Records]   3.133333   \n",
       "207   [super mario movie, mario movie review, mario ...   5.350000   \n",
       "219   [denver, colorado, news, kdvr, fox31, Jeffco, ...   1.983333   \n",
       "222   [original iphone, sealed iphone, MKBHD, first ...  13.400000   \n",
       "227   [GloRilla, Unh, CMG/Interscope, Records, Hip, ...   2.883333   \n",
       "230   [Jlaservideo, DIY, how to, tutorial, mario, su...  17.016667   \n",
       "231   [Super mario bros, movie, pitch meeting, mario...   5.983333   \n",
       "232   [minecraft hardcore, hardcore series, giant me...  26.283333   \n",
       "1909  [WWE, WWE Smackdown, WWE Smackdown Highlights,...   9.533333   \n",
       "1911  [Beyoncé, ビヨンセ, 碧昂絲, Kendrick Lamar, AMERICA H...   4.350000   \n",
       "1917       [Basketball, G League, NBA, game-0042200302]   9.633333   \n",
       "1944  [dude perfect, dude perfect stereotypes, dude ...  17.700000   \n",
       "1945  [acookiegod, a cookie god, a cookie god minecr...  28.783333   \n",
       "1946  [survival, all terrain, offroad, overnight, re...  12.116667   \n",
       "1948  [funny, relatable, fail, tik tok, amazon produ...  17.683333   \n",
       "1949  [fortnite, fortnite gameplay, fortnite battle ...  31.583333   \n",
       "1951  [Minecraft, Minecraft 100 Days, 100 Days In Mi...  40.950000   \n",
       "1952  [minecraft, wadzee, hardcore, wadzee hardcore,...  14.900000   \n",
       "1959  [VR, Virtual Reality, The Boys, JoshDub, Mully...  23.183333   \n",
       "1967  [Eystreem, eyestream, eystream, minecraft, fam...  16.183333   \n",
       "1968                         [jordan matter, challenge]  13.883333   \n",
       "1970  [Mountain dew grilled cheese, mountain dew, so...  14.850000   \n",
       "1971  [vh1, rupaul, rupaul's drag race, drag race, t...  33.816667   \n",
       "1989                                      [Haminations]  12.383333   \n",
       "1995  [Minecraft, minecraft roleplay, ryguyrocky, I ...  49.216667   \n",
       "1997  [my favourite game, favorite game, im losing m...  11.866667   \n",
       "2005  [Tanjiro vs Every Hashira, What if Tanjiro had...  11.783333   \n",
       "2006  [infamous swoosh, animations, haminations, the...  10.650000   \n",
       "2007  [#FCBRBL, All Goals, Bayern, Bayern Munich, Bu...   1.183333   \n",
       "2008  [boxing, tony jeffries, youtube boxing, idubbb...  47.183333   \n",
       "2009  [cg5, cg5 song, amanda the adventurer cg5, cg5...   3.350000   \n",
       "2011  [cabin, shipping container cabin, tiny cabin, ...  16.133333   \n",
       "2064  [twitch, games, pokemon, gaming, pokemon chall...  35.683333   \n",
       "2974  [AMP MMA BASKETBALL, AMP UFC BASKETBALL, AMP U...  37.650000   \n",
       "2978  [Karan Johar, New movie, Drama film, Romance, ...   1.333333   \n",
       "2983  [CTV, News, CTV News, Missing submarine, subma...   5.983333   \n",
       "3093  [smosh, smosh games, smosh pit, ian and anthon...   4.083333   \n",
       "3105                            [fortnite, ali a, alia]  11.533333   \n",
       "3111  [YG Entertainment, YG, 와이지, K-pop, 트레져, 트레저, T...   3.683333   \n",
       "\n",
       "      category_id                   timestamp        category_title  \\\n",
       "76             28  2023-04-20 23:00:10.163792  Science & Technology   \n",
       "78             24  2023-04-20 23:00:10.163792         Entertainment   \n",
       "79             24  2023-04-20 23:00:10.163792         Entertainment   \n",
       "80             20  2023-04-20 23:00:10.163792                Gaming   \n",
       "81             17  2023-04-20 23:00:10.163792                Sports   \n",
       "95             24  2023-04-20 23:00:10.163792         Entertainment   \n",
       "156            10  2023-04-21 12:12:26.441957                 Music   \n",
       "157            17  2023-04-21 12:12:26.441957                Sports   \n",
       "158            17  2023-04-21 12:12:26.441957                Sports   \n",
       "159            20  2023-04-21 12:12:26.441957                Gaming   \n",
       "162            10  2023-04-21 12:12:26.441957                 Music   \n",
       "163            22  2023-04-21 12:12:26.441957        People & Blogs   \n",
       "167            10  2023-04-21 12:12:26.441957                 Music   \n",
       "207            20  2023-04-21 23:00:10.446851                Gaming   \n",
       "219            25  2023-04-21 23:00:10.446851       News & Politics   \n",
       "222            28  2023-04-21 23:00:10.446851  Science & Technology   \n",
       "227            10  2023-04-21 23:00:10.446851                 Music   \n",
       "230             1  2023-04-21 23:00:10.446851      Film & Animation   \n",
       "231            24  2023-04-21 23:00:10.446851         Entertainment   \n",
       "232            20  2023-04-21 23:00:10.446851                Gaming   \n",
       "1909           17  2023-05-20 13:30:23.293712                Sports   \n",
       "1911           10  2023-05-20 13:30:23.293712                 Music   \n",
       "1917           17  2023-05-20 13:30:23.293712                Sports   \n",
       "1944           17  2023-05-20 23:00:03.717024                Sports   \n",
       "1945           20  2023-05-20 23:00:03.717024                Gaming   \n",
       "1946           24  2023-05-20 23:00:03.717024         Entertainment   \n",
       "1948           26  2023-05-20 23:00:03.717024         Howto & Style   \n",
       "1949           20  2023-05-20 23:00:03.717024                Gaming   \n",
       "1951           20  2023-05-20 23:00:03.717024                Gaming   \n",
       "1952           20  2023-05-20 23:00:03.717024                Gaming   \n",
       "1959           20  2023-05-20 23:00:03.717024                Gaming   \n",
       "1967           20  2023-05-20 23:00:03.717024                Gaming   \n",
       "1968           24  2023-05-20 23:00:03.717024         Entertainment   \n",
       "1970           22  2023-05-20 23:00:03.717024        People & Blogs   \n",
       "1971           24  2023-05-20 23:00:03.717024         Entertainment   \n",
       "1989           23  2023-05-21 13:10:16.705150                Comedy   \n",
       "1995           20  2023-05-21 13:10:16.705150                Gaming   \n",
       "1997           23  2023-05-21 13:10:16.705150                Comedy   \n",
       "2005           24  2023-05-21 13:10:16.705150         Entertainment   \n",
       "2006            1  2023-05-21 13:10:16.705150      Film & Animation   \n",
       "2007           17  2023-05-21 13:10:16.705150                Sports   \n",
       "2008           24  2023-05-21 13:10:16.705150         Entertainment   \n",
       "2009           10  2023-05-21 13:10:16.705150                 Music   \n",
       "2011           22  2023-05-21 13:10:16.705150        People & Blogs   \n",
       "2064           20  2023-05-21 23:36:20.860660                Gaming   \n",
       "2974           24  2023-06-20 13:32:09.146638         Entertainment   \n",
       "2978            1  2023-06-20 13:32:09.146638      Film & Animation   \n",
       "2983           25  2023-06-20 13:32:09.146638       News & Politics   \n",
       "3093           23  2023-06-20 14:50:36.142143                Comedy   \n",
       "3105           20  2023-06-20 14:50:36.142143                Gaming   \n",
       "3111           24  2023-06-20 14:50:36.142143         Entertainment   \n",
       "\n",
       "      engagement  \n",
       "76      0.026970  \n",
       "78      0.049421  \n",
       "79      0.065495  \n",
       "80      0.043087  \n",
       "81      0.012145  \n",
       "95      0.084065  \n",
       "156     0.086376  \n",
       "157     0.022206  \n",
       "158     0.013379  \n",
       "159     0.023472  \n",
       "162     0.072144  \n",
       "163     0.089110  \n",
       "167     0.126112  \n",
       "207     0.057244  \n",
       "219     0.022069  \n",
       "222     0.071897  \n",
       "227     0.038057  \n",
       "230     0.071885  \n",
       "231     0.085111  \n",
       "232     0.030843  \n",
       "1909    0.024912  \n",
       "1911    0.107901  \n",
       "1917    0.012868  \n",
       "1944    0.086664  \n",
       "1945    0.042060  \n",
       "1946    0.028921  \n",
       "1948    0.053727  \n",
       "1949    0.030850  \n",
       "1951    0.020113  \n",
       "1952    0.135602  \n",
       "1959    0.067377  \n",
       "1967    0.032969  \n",
       "1968    0.036229  \n",
       "1970    0.061581  \n",
       "1971    0.056499  \n",
       "1989    0.066924  \n",
       "1995    0.023827  \n",
       "1997    0.047516  \n",
       "2005    0.020046  \n",
       "2006    0.055643  \n",
       "2007    0.017798  \n",
       "2008    0.107449  \n",
       "2009    0.129321  \n",
       "2011    0.117304  \n",
       "2064    0.063322  \n",
       "2974    0.056451  \n",
       "2978    0.010388  \n",
       "2983    0.016130  \n",
       "3093    0.331724  \n",
       "3105    0.027105  \n",
       "3111    0.204518  "
      ]
     },
     "execution_count": 40,
     "metadata": {},
     "output_type": "execute_result"
    }
   ],
   "source": [
    "subset = df[df['published_at'].dt.day == datetime.now().day]\n",
    "subset"
   ]
  }
 ],
 "metadata": {
  "kernelspec": {
   "display_name": "Python 3",
   "language": "python",
   "name": "python3"
  },
  "language_info": {
   "codemirror_mode": {
    "name": "ipython",
    "version": 3
   },
   "file_extension": ".py",
   "mimetype": "text/x-python",
   "name": "python",
   "nbconvert_exporter": "python",
   "pygments_lexer": "ipython3",
   "version": "3.11.4"
  },
  "orig_nbformat": 4
 },
 "nbformat": 4,
 "nbformat_minor": 2
}
